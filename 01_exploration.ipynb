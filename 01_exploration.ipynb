{
 "cells": [
  {
   "cell_type": "code",
   "execution_count": 1,
   "metadata": {},
   "outputs": [],
   "source": [
    "# Standard Library Imports\n",
    "from datetime import datetime as dt\n",
    "\n",
    "# Third-party Imports\n",
    "import pandas as pd\n",
    "import numpy as np  # Only keep if used\n",
    "import seaborn as sns\n",
    "import matplotlib.pyplot as plt\n",
    "import plotly.graph_objects as go\n",
    "from sklearn.preprocessing import LabelEncoder\n",
    "\n",
    "# Configure Pandas to suppress SettingWithCopyWarning (Use with caution)\n",
    "pd.options.mode.chained_assignment = None  # Suppresses warnings about chained assignments\n",
    "\n",
    "# The above imports support:\n",
    "# - Data manipulation (Pandas, NumPy)\n",
    "# - Data visualization (Seaborn, Matplotlib, Plotly)\n",
    "# - Data preprocessing (LabelEncoder from Scikit-learn)\n",
    "\n",
    "\n",
    "\n"
   ]
  },
  {
   "cell_type": "code",
   "execution_count": 2,
   "metadata": {},
   "outputs": [
    {
     "name": "stdout",
     "output_type": "stream",
     "text": [
      "Dataset loaded successfully.\n"
     ]
    },
    {
     "data": {
      "text/html": [
       "<div>\n",
       "<style scoped>\n",
       "    .dataframe tbody tr th:only-of-type {\n",
       "        vertical-align: middle;\n",
       "    }\n",
       "\n",
       "    .dataframe tbody tr th {\n",
       "        vertical-align: top;\n",
       "    }\n",
       "\n",
       "    .dataframe thead th {\n",
       "        text-align: right;\n",
       "    }\n",
       "</style>\n",
       "<table border=\"1\" class=\"dataframe\">\n",
       "  <thead>\n",
       "    <tr style=\"text-align: right;\">\n",
       "      <th></th>\n",
       "      <th>ReqTimeUTC</th>\n",
       "      <th>TransactionType</th>\n",
       "      <th>TransactionAmount</th>\n",
       "      <th>Status</th>\n",
       "      <th>AccountIdentifier</th>\n",
       "    </tr>\n",
       "  </thead>\n",
       "  <tbody>\n",
       "    <tr>\n",
       "      <th>0</th>\n",
       "      <td>2019-07-05T05:02:28+0000</td>\n",
       "      <td>LOYALTYCARDDEBIT</td>\n",
       "      <td>10.0</td>\n",
       "      <td>APPROVED</td>\n",
       "      <td>customer1734</td>\n",
       "    </tr>\n",
       "    <tr>\n",
       "      <th>1</th>\n",
       "      <td>2019-07-05T05:26:00+0000</td>\n",
       "      <td>LOYALTYCARDDEBIT</td>\n",
       "      <td>10.0</td>\n",
       "      <td>APPROVED</td>\n",
       "      <td>customer1734</td>\n",
       "    </tr>\n",
       "    <tr>\n",
       "      <th>2</th>\n",
       "      <td>2019-07-05T04:54:35+0000</td>\n",
       "      <td>LOYALTYCARDCREDITCL</td>\n",
       "      <td>10.0</td>\n",
       "      <td>APPROVED</td>\n",
       "      <td>customer1734</td>\n",
       "    </tr>\n",
       "    <tr>\n",
       "      <th>3</th>\n",
       "      <td>2019-07-05T05:02:27+0000</td>\n",
       "      <td>LOYALTYCARDCREDITCL</td>\n",
       "      <td>10.0</td>\n",
       "      <td>APPROVED</td>\n",
       "      <td>customer1734</td>\n",
       "    </tr>\n",
       "    <tr>\n",
       "      <th>4</th>\n",
       "      <td>2019-07-05T05:25:59+0000</td>\n",
       "      <td>LOYALTYCARDCREDITCL</td>\n",
       "      <td>10.0</td>\n",
       "      <td>APPROVED</td>\n",
       "      <td>customer1734</td>\n",
       "    </tr>\n",
       "  </tbody>\n",
       "</table>\n",
       "</div>"
      ],
      "text/plain": [
       "                 ReqTimeUTC      TransactionType  TransactionAmount    Status  \\\n",
       "0  2019-07-05T05:02:28+0000     LOYALTYCARDDEBIT               10.0  APPROVED   \n",
       "1  2019-07-05T05:26:00+0000     LOYALTYCARDDEBIT               10.0  APPROVED   \n",
       "2  2019-07-05T04:54:35+0000  LOYALTYCARDCREDITCL               10.0  APPROVED   \n",
       "3  2019-07-05T05:02:27+0000  LOYALTYCARDCREDITCL               10.0  APPROVED   \n",
       "4  2019-07-05T05:25:59+0000  LOYALTYCARDCREDITCL               10.0  APPROVED   \n",
       "\n",
       "  AccountIdentifier  \n",
       "0      customer1734  \n",
       "1      customer1734  \n",
       "2      customer1734  \n",
       "3      customer1734  \n",
       "4      customer1734  "
      ]
     },
     "metadata": {},
     "output_type": "display_data"
    }
   ],
   "source": [
    "# Load the data with error handling\n",
    "try:\n",
    "    casino = pd.read_csv(\"Online_casino_DIB.csv\", encoding=\"utf-8\")  # Adjust encoding if necessary\n",
    "    print(\"Dataset loaded successfully.\")\n",
    "    display(casino.head())  # Use display() for better output in Jupyter Notebook\n",
    "except FileNotFoundError:\n",
    "    print(\"Error: The file 'Online_casino_DIB.csv' was not found.\")\n",
    "except pd.errors.EmptyDataError:\n",
    "    print(\"Error: The file is empty.\")\n",
    "except pd.errors.ParserError:\n",
    "    print(\"Error: Issue parsing the file. Check for formatting errors.\")"
   ]
  },
  {
   "cell_type": "code",
   "execution_count": 3,
   "metadata": {},
   "outputs": [
    {
     "data": {
      "text/plain": [
       "ReqTimeUTC            object\n",
       "TransactionType       object\n",
       "TransactionAmount    float64\n",
       "Status                object\n",
       "AccountIdentifier     object\n",
       "dtype: object"
      ]
     },
     "execution_count": 3,
     "metadata": {},
     "output_type": "execute_result"
    }
   ],
   "source": [
    "# Check data types of each column\n",
    "casino.dtypes"
   ]
  },
  {
   "cell_type": "code",
   "execution_count": 4,
   "metadata": {},
   "outputs": [
    {
     "name": "stdout",
     "output_type": "stream",
     "text": [
      "Column 'ReqTimeUTC' successfully converted to datetime format.\n",
      "\n",
      "Updated Data Types:\n",
      "\n",
      "ReqTimeUTC           datetime64[ns, UTC]\n",
      "TransactionType                   object\n",
      "TransactionAmount                float64\n",
      "Status                            object\n",
      "AccountIdentifier                 object\n",
      "dtype: object\n"
     ]
    }
   ],
   "source": [
    "# Convert 'ReqTimeUTC' to datetime format safely\n",
    "try:\n",
    "    casino[\"ReqTimeUTC\"] = pd.to_datetime(casino[\"ReqTimeUTC\"], errors=\"coerce\", utc=True)\n",
    "    print(\"Column 'ReqTimeUTC' successfully converted to datetime format.\")\n",
    "except KeyError:\n",
    "    print(\"Error: Column 'ReqTimeUTC' not found in the dataset.\")\n",
    "except Exception as e:\n",
    "    print(f\"Unexpected error: {e}\")\n",
    "\n",
    "# Display updated data types\n",
    "print(\"\\nUpdated Data Types:\\n\")\n",
    "print(casino.dtypes)\n"
   ]
  },
  {
   "cell_type": "code",
   "execution_count": 5,
   "metadata": {},
   "outputs": [
    {
     "name": "stdout",
     "output_type": "stream",
     "text": [
      "\n",
      "Numerical Data Summary:\n",
      "\n",
      "       TransactionAmount\n",
      "count      138928.000000\n",
      "mean          103.012203\n",
      "std           309.778934\n",
      "min             1.000000\n",
      "25%            20.000000\n",
      "50%            35.000000\n",
      "75%           100.000000\n",
      "max         15202.000000\n",
      "\n",
      "Categorical Data Summary:\n",
      "\n",
      "         TransactionType    Status AccountIdentifier\n",
      "count             138928    138928            138928\n",
      "unique                 3         2              2361\n",
      "top     LOYALTYCARDDEBIT  APPROVED        customer10\n",
      "freq               70329    133520              2318\n"
     ]
    }
   ],
   "source": [
    "# Get summary statistics for numerical columns\n",
    "print(\"\\nNumerical Data Summary:\\n\")\n",
    "print(casino.describe())\n",
    "\n",
    "# Get summary statistics for categorical columns (object types)\n",
    "print(\"\\nCategorical Data Summary:\\n\")\n",
    "print(casino.describe(include=[\"object\"]))  # Includes non-numeric columns"
   ]
  },
  {
   "cell_type": "code",
   "execution_count": 6,
   "metadata": {},
   "outputs": [
    {
     "name": "stdout",
     "output_type": "stream",
     "text": [
      "\n",
      "Summary Statistics (Excluding Float64 Columns):\n",
      "\n",
      "                                 ReqTimeUTC   TransactionType    Status  \\\n",
      "count                                138928            138928    138928   \n",
      "unique                                  NaN                 3         2   \n",
      "top                                     NaN  LOYALTYCARDDEBIT  APPROVED   \n",
      "freq                                    NaN             70329    133520   \n",
      "mean    2019-08-23 14:37:01.511898112+00:00               NaN       NaN   \n",
      "min               2019-03-01 08:03:23+00:00               NaN       NaN   \n",
      "25%     2019-05-19 06:27:26.249999872+00:00               NaN       NaN   \n",
      "50%        2019-08-21 13:32:02.500000+00:00               NaN       NaN   \n",
      "75%        2019-11-23 20:28:33.500000+00:00               NaN       NaN   \n",
      "max               2020-03-02 07:47:06+00:00               NaN       NaN   \n",
      "\n",
      "       AccountIdentifier  \n",
      "count             138928  \n",
      "unique              2361  \n",
      "top           customer10  \n",
      "freq                2318  \n",
      "mean                 NaN  \n",
      "min                  NaN  \n",
      "25%                  NaN  \n",
      "50%                  NaN  \n",
      "75%                  NaN  \n",
      "max                  NaN  \n"
     ]
    }
   ],
   "source": [
    "# Get summary statistics while excluding float64 columns\n",
    "print(\"\\nSummary Statistics (Excluding Float64 Columns):\\n\")\n",
    "print(casino.describe(exclude=\"float64\"))"
   ]
  },
  {
   "cell_type": "code",
   "execution_count": 7,
   "metadata": {},
   "outputs": [
    {
     "data": {
      "text/plain": [
       "0         False\n",
       "1         False\n",
       "2         False\n",
       "3         False\n",
       "4         False\n",
       "          ...  \n",
       "138923     True\n",
       "138924    False\n",
       "138925    False\n",
       "138926    False\n",
       "138927    False\n",
       "Name: ReqTimeUTC, Length: 138928, dtype: bool"
      ]
     },
     "execution_count": 7,
     "metadata": {},
     "output_type": "execute_result"
    }
   ],
   "source": [
    "# Filter the dataset to include only rows where the 'ReqTimeUTC' timestamp is later than February 29, 2020 at midnight (UTC).\n",
    "# This is useful for isolating data that occurred after a specific cutoff date for further analysis.\n",
    "casino.ReqTimeUTC > '2020-02-29 00:00:00+00:00'"
   ]
  },
  {
   "cell_type": "code",
   "execution_count": 8,
   "metadata": {},
   "outputs": [],
   "source": [
    "casino = casino[casino.ReqTimeUTC < '2020-02-29 00:00:00+00:00'].copy()\n"
   ]
  },
  {
   "cell_type": "code",
   "execution_count": 9,
   "metadata": {},
   "outputs": [
    {
     "data": {
      "text/plain": [
       "array(['LOYALTYCARDDEBIT', 'LOYALTYCARDCREDITCL', 'LOYALTYCARDCREDIT'],\n",
       "      dtype=object)"
      ]
     },
     "execution_count": 9,
     "metadata": {},
     "output_type": "execute_result"
    }
   ],
   "source": [
    "# Filter the dataset to include only rows where the 'ReqTimeUTC' timestamp is earlier than February 29, 2020 at midnight (UTC).\n",
    "# The '.copy()' is used to create a new DataFrame to avoid setting values on a slice of the original DataFrame, ensuring safe modification.\n",
    "# This is useful for isolating data that occurred before a specific cutoff date for analysis.\n",
    "\n",
    "casino.TransactionType.unique()"
   ]
  },
  {
   "cell_type": "code",
   "execution_count": 10,
   "metadata": {},
   "outputs": [],
   "source": [
    "# Map values in the 'TransactionType' column to new, shorter categories for easier analysis:\n",
    "# - 'LOYALTYCARDDEBIT' is mapped to 'L2D'\n",
    "# - 'LOYALTYCARDCREDITCL' is mapped to 'L1D'\n",
    "# - 'LOYALTYCARDCREDIT' is mapped to 'L2W'\n",
    "# This helps standardize the transaction types, making the data more concise and readable for analysis.\n",
    "\n",
    "casino.TransactionType =casino.TransactionType.map({'LOYALTYCARDDEBIT':'L2D', 'LOYALTYCARDCREDITCL':'L1D', 'LOYALTYCARDCREDIT':'L2W'})"
   ]
  },
  {
   "cell_type": "code",
   "execution_count": 11,
   "metadata": {},
   "outputs": [
    {
     "data": {
      "text/html": [
       "<div>\n",
       "<style scoped>\n",
       "    .dataframe tbody tr th:only-of-type {\n",
       "        vertical-align: middle;\n",
       "    }\n",
       "\n",
       "    .dataframe tbody tr th {\n",
       "        vertical-align: top;\n",
       "    }\n",
       "\n",
       "    .dataframe thead th {\n",
       "        text-align: right;\n",
       "    }\n",
       "</style>\n",
       "<table border=\"1\" class=\"dataframe\">\n",
       "  <thead>\n",
       "    <tr style=\"text-align: right;\">\n",
       "      <th></th>\n",
       "      <th>ReqTimeUTC</th>\n",
       "      <th>TransactionType</th>\n",
       "      <th>Status</th>\n",
       "      <th>AccountIdentifier</th>\n",
       "    </tr>\n",
       "  </thead>\n",
       "  <tbody>\n",
       "    <tr>\n",
       "      <th>count</th>\n",
       "      <td>137857</td>\n",
       "      <td>137857</td>\n",
       "      <td>137857</td>\n",
       "      <td>137857</td>\n",
       "    </tr>\n",
       "    <tr>\n",
       "      <th>unique</th>\n",
       "      <td>NaN</td>\n",
       "      <td>3</td>\n",
       "      <td>2</td>\n",
       "      <td>2351</td>\n",
       "    </tr>\n",
       "    <tr>\n",
       "      <th>top</th>\n",
       "      <td>NaN</td>\n",
       "      <td>L2D</td>\n",
       "      <td>APPROVED</td>\n",
       "      <td>customer10</td>\n",
       "    </tr>\n",
       "    <tr>\n",
       "      <th>freq</th>\n",
       "      <td>NaN</td>\n",
       "      <td>69795</td>\n",
       "      <td>132473</td>\n",
       "      <td>2294</td>\n",
       "    </tr>\n",
       "    <tr>\n",
       "      <th>mean</th>\n",
       "      <td>2019-08-22 03:05:44.556649216+00:00</td>\n",
       "      <td>NaN</td>\n",
       "      <td>NaN</td>\n",
       "      <td>NaN</td>\n",
       "    </tr>\n",
       "    <tr>\n",
       "      <th>min</th>\n",
       "      <td>2019-03-01 08:03:23+00:00</td>\n",
       "      <td>NaN</td>\n",
       "      <td>NaN</td>\n",
       "      <td>NaN</td>\n",
       "    </tr>\n",
       "    <tr>\n",
       "      <th>25%</th>\n",
       "      <td>2019-05-18 13:13:36+00:00</td>\n",
       "      <td>NaN</td>\n",
       "      <td>NaN</td>\n",
       "      <td>NaN</td>\n",
       "    </tr>\n",
       "    <tr>\n",
       "      <th>50%</th>\n",
       "      <td>2019-08-20 03:04:39+00:00</td>\n",
       "      <td>NaN</td>\n",
       "      <td>NaN</td>\n",
       "      <td>NaN</td>\n",
       "    </tr>\n",
       "    <tr>\n",
       "      <th>75%</th>\n",
       "      <td>2019-11-21 13:40:41+00:00</td>\n",
       "      <td>NaN</td>\n",
       "      <td>NaN</td>\n",
       "      <td>NaN</td>\n",
       "    </tr>\n",
       "    <tr>\n",
       "      <th>max</th>\n",
       "      <td>2020-02-28 23:54:14+00:00</td>\n",
       "      <td>NaN</td>\n",
       "      <td>NaN</td>\n",
       "      <td>NaN</td>\n",
       "    </tr>\n",
       "  </tbody>\n",
       "</table>\n",
       "</div>"
      ],
      "text/plain": [
       "                                 ReqTimeUTC TransactionType    Status  \\\n",
       "count                                137857          137857    137857   \n",
       "unique                                  NaN               3         2   \n",
       "top                                     NaN             L2D  APPROVED   \n",
       "freq                                    NaN           69795    132473   \n",
       "mean    2019-08-22 03:05:44.556649216+00:00             NaN       NaN   \n",
       "min               2019-03-01 08:03:23+00:00             NaN       NaN   \n",
       "25%               2019-05-18 13:13:36+00:00             NaN       NaN   \n",
       "50%               2019-08-20 03:04:39+00:00             NaN       NaN   \n",
       "75%               2019-11-21 13:40:41+00:00             NaN       NaN   \n",
       "max               2020-02-28 23:54:14+00:00             NaN       NaN   \n",
       "\n",
       "       AccountIdentifier  \n",
       "count             137857  \n",
       "unique              2351  \n",
       "top           customer10  \n",
       "freq                2294  \n",
       "mean                 NaN  \n",
       "min                  NaN  \n",
       "25%                  NaN  \n",
       "50%                  NaN  \n",
       "75%                  NaN  \n",
       "max                  NaN  "
      ]
     },
     "execution_count": 11,
     "metadata": {},
     "output_type": "execute_result"
    }
   ],
   "source": [
    "# Generate summary statistics for all columns except those of type 'float64'.\n",
    "# This excludes numeric columns and focuses on providing descriptive statistics for categorical or other non-numeric data types.\n",
    "# Useful when you want to analyze categorical columns and their distribution, like counts, unique values, top values, and frequencies.\n",
    "\n",
    "casino.describe(exclude = 'float64' )"
   ]
  },
  {
   "cell_type": "code",
   "execution_count": 12,
   "metadata": {},
   "outputs": [
    {
     "data": {
      "text/html": [
       "<div>\n",
       "<style scoped>\n",
       "    .dataframe tbody tr th:only-of-type {\n",
       "        vertical-align: middle;\n",
       "    }\n",
       "\n",
       "    .dataframe tbody tr th {\n",
       "        vertical-align: top;\n",
       "    }\n",
       "\n",
       "    .dataframe thead th {\n",
       "        text-align: right;\n",
       "    }\n",
       "</style>\n",
       "<table border=\"1\" class=\"dataframe\">\n",
       "  <thead>\n",
       "    <tr style=\"text-align: right;\">\n",
       "      <th></th>\n",
       "      <th>ReqTimeUTC</th>\n",
       "      <th>TransactionType</th>\n",
       "      <th>TransactionAmount</th>\n",
       "      <th>Status</th>\n",
       "    </tr>\n",
       "    <tr>\n",
       "      <th>AccountIdentifier</th>\n",
       "      <th></th>\n",
       "      <th></th>\n",
       "      <th></th>\n",
       "      <th></th>\n",
       "    </tr>\n",
       "  </thead>\n",
       "  <tbody>\n",
       "    <tr>\n",
       "      <th>customer1</th>\n",
       "      <td>884</td>\n",
       "      <td>884</td>\n",
       "      <td>884</td>\n",
       "      <td>884</td>\n",
       "    </tr>\n",
       "    <tr>\n",
       "      <th>customer10</th>\n",
       "      <td>2294</td>\n",
       "      <td>2294</td>\n",
       "      <td>2294</td>\n",
       "      <td>2294</td>\n",
       "    </tr>\n",
       "    <tr>\n",
       "      <th>customer100</th>\n",
       "      <td>112</td>\n",
       "      <td>112</td>\n",
       "      <td>112</td>\n",
       "      <td>112</td>\n",
       "    </tr>\n",
       "    <tr>\n",
       "      <th>customer1000</th>\n",
       "      <td>4</td>\n",
       "      <td>4</td>\n",
       "      <td>4</td>\n",
       "      <td>4</td>\n",
       "    </tr>\n",
       "    <tr>\n",
       "      <th>customer1001</th>\n",
       "      <td>46</td>\n",
       "      <td>46</td>\n",
       "      <td>46</td>\n",
       "      <td>46</td>\n",
       "    </tr>\n",
       "    <tr>\n",
       "      <th>...</th>\n",
       "      <td>...</td>\n",
       "      <td>...</td>\n",
       "      <td>...</td>\n",
       "      <td>...</td>\n",
       "    </tr>\n",
       "    <tr>\n",
       "      <th>customer995</th>\n",
       "      <td>18</td>\n",
       "      <td>18</td>\n",
       "      <td>18</td>\n",
       "      <td>18</td>\n",
       "    </tr>\n",
       "    <tr>\n",
       "      <th>customer996</th>\n",
       "      <td>6</td>\n",
       "      <td>6</td>\n",
       "      <td>6</td>\n",
       "      <td>6</td>\n",
       "    </tr>\n",
       "    <tr>\n",
       "      <th>customer997</th>\n",
       "      <td>2</td>\n",
       "      <td>2</td>\n",
       "      <td>2</td>\n",
       "      <td>2</td>\n",
       "    </tr>\n",
       "    <tr>\n",
       "      <th>customer998</th>\n",
       "      <td>4</td>\n",
       "      <td>4</td>\n",
       "      <td>4</td>\n",
       "      <td>4</td>\n",
       "    </tr>\n",
       "    <tr>\n",
       "      <th>customer999</th>\n",
       "      <td>4</td>\n",
       "      <td>4</td>\n",
       "      <td>4</td>\n",
       "      <td>4</td>\n",
       "    </tr>\n",
       "  </tbody>\n",
       "</table>\n",
       "<p>2351 rows × 4 columns</p>\n",
       "</div>"
      ],
      "text/plain": [
       "                   ReqTimeUTC  TransactionType  TransactionAmount  Status\n",
       "AccountIdentifier                                                        \n",
       "customer1                 884              884                884     884\n",
       "customer10               2294             2294               2294    2294\n",
       "customer100               112              112                112     112\n",
       "customer1000                4                4                  4       4\n",
       "customer1001               46               46                 46      46\n",
       "...                       ...              ...                ...     ...\n",
       "customer995                18               18                 18      18\n",
       "customer996                 6                6                  6       6\n",
       "customer997                 2                2                  2       2\n",
       "customer998                 4                4                  4       4\n",
       "customer999                 4                4                  4       4\n",
       "\n",
       "[2351 rows x 4 columns]"
      ]
     },
     "execution_count": 12,
     "metadata": {},
     "output_type": "execute_result"
    }
   ],
   "source": [
    "# Group the dataset by the 'AccountIdentifier' column and count the number of non-null values for each column within each group.\n",
    "# This provides insight into the distribution of data across different account identifiers, showing how many records exist for each account.\n",
    "# Useful for identifying how many entries (transactions, events, etc.) are associated with each account.\n",
    "\n",
    "casino.groupby(\"AccountIdentifier\").count()\n"
   ]
  },
  {
   "cell_type": "code",
   "execution_count": 13,
   "metadata": {},
   "outputs": [
    {
     "data": {
      "text/html": [
       "<div>\n",
       "<style scoped>\n",
       "    .dataframe tbody tr th:only-of-type {\n",
       "        vertical-align: middle;\n",
       "    }\n",
       "\n",
       "    .dataframe tbody tr th {\n",
       "        vertical-align: top;\n",
       "    }\n",
       "\n",
       "    .dataframe thead th {\n",
       "        text-align: right;\n",
       "    }\n",
       "</style>\n",
       "<table border=\"1\" class=\"dataframe\">\n",
       "  <thead>\n",
       "    <tr style=\"text-align: right;\">\n",
       "      <th></th>\n",
       "      <th></th>\n",
       "      <th>ReqTimeUTC</th>\n",
       "      <th>TransactionAmount</th>\n",
       "      <th>Status</th>\n",
       "    </tr>\n",
       "    <tr>\n",
       "      <th>AccountIdentifier</th>\n",
       "      <th>TransactionType</th>\n",
       "      <th></th>\n",
       "      <th></th>\n",
       "      <th></th>\n",
       "    </tr>\n",
       "  </thead>\n",
       "  <tbody>\n",
       "    <tr>\n",
       "      <th rowspan=\"3\" valign=\"top\">customer1</th>\n",
       "      <th>L1D</th>\n",
       "      <td>438</td>\n",
       "      <td>438</td>\n",
       "      <td>438</td>\n",
       "    </tr>\n",
       "    <tr>\n",
       "      <th>L2D</th>\n",
       "      <td>444</td>\n",
       "      <td>444</td>\n",
       "      <td>444</td>\n",
       "    </tr>\n",
       "    <tr>\n",
       "      <th>L2W</th>\n",
       "      <td>2</td>\n",
       "      <td>2</td>\n",
       "      <td>2</td>\n",
       "    </tr>\n",
       "    <tr>\n",
       "      <th rowspan=\"2\" valign=\"top\">customer10</th>\n",
       "      <th>L1D</th>\n",
       "      <td>1164</td>\n",
       "      <td>1164</td>\n",
       "      <td>1164</td>\n",
       "    </tr>\n",
       "    <tr>\n",
       "      <th>L2D</th>\n",
       "      <td>1130</td>\n",
       "      <td>1130</td>\n",
       "      <td>1130</td>\n",
       "    </tr>\n",
       "    <tr>\n",
       "      <th>...</th>\n",
       "      <th>...</th>\n",
       "      <td>...</td>\n",
       "      <td>...</td>\n",
       "      <td>...</td>\n",
       "    </tr>\n",
       "    <tr>\n",
       "      <th>customer997</th>\n",
       "      <th>L2D</th>\n",
       "      <td>1</td>\n",
       "      <td>1</td>\n",
       "      <td>1</td>\n",
       "    </tr>\n",
       "    <tr>\n",
       "      <th rowspan=\"2\" valign=\"top\">customer998</th>\n",
       "      <th>L1D</th>\n",
       "      <td>2</td>\n",
       "      <td>2</td>\n",
       "      <td>2</td>\n",
       "    </tr>\n",
       "    <tr>\n",
       "      <th>L2D</th>\n",
       "      <td>2</td>\n",
       "      <td>2</td>\n",
       "      <td>2</td>\n",
       "    </tr>\n",
       "    <tr>\n",
       "      <th rowspan=\"2\" valign=\"top\">customer999</th>\n",
       "      <th>L1D</th>\n",
       "      <td>2</td>\n",
       "      <td>2</td>\n",
       "      <td>2</td>\n",
       "    </tr>\n",
       "    <tr>\n",
       "      <th>L2D</th>\n",
       "      <td>2</td>\n",
       "      <td>2</td>\n",
       "      <td>2</td>\n",
       "    </tr>\n",
       "  </tbody>\n",
       "</table>\n",
       "<p>4989 rows × 3 columns</p>\n",
       "</div>"
      ],
      "text/plain": [
       "                                   ReqTimeUTC  TransactionAmount  Status\n",
       "AccountIdentifier TransactionType                                       \n",
       "customer1         L1D                     438                438     438\n",
       "                  L2D                     444                444     444\n",
       "                  L2W                       2                  2       2\n",
       "customer10        L1D                    1164               1164    1164\n",
       "                  L2D                    1130               1130    1130\n",
       "...                                       ...                ...     ...\n",
       "customer997       L2D                       1                  1       1\n",
       "customer998       L1D                       2                  2       2\n",
       "                  L2D                       2                  2       2\n",
       "customer999       L1D                       2                  2       2\n",
       "                  L2D                       2                  2       2\n",
       "\n",
       "[4989 rows x 3 columns]"
      ]
     },
     "execution_count": 13,
     "metadata": {},
     "output_type": "execute_result"
    }
   ],
   "source": [
    "# Group the dataset by both 'AccountIdentifier' and 'TransactionType', then count the non-null values for each column within each group.\n",
    "# This helps to understand the distribution of different transaction types per account and how many records exist for each combination.\n",
    "# Useful for analyzing the frequency and activity of various transaction types across different accounts.\n",
    "\n",
    "casino.groupby([\"AccountIdentifier\",\"TransactionType\"]).count()\n"
   ]
  },
  {
   "cell_type": "code",
   "execution_count": 14,
   "metadata": {},
   "outputs": [
    {
     "data": {
      "text/html": [
       "<div>\n",
       "<style scoped>\n",
       "    .dataframe tbody tr th:only-of-type {\n",
       "        vertical-align: middle;\n",
       "    }\n",
       "\n",
       "    .dataframe tbody tr th {\n",
       "        vertical-align: top;\n",
       "    }\n",
       "\n",
       "    .dataframe thead th {\n",
       "        text-align: right;\n",
       "    }\n",
       "</style>\n",
       "<table border=\"1\" class=\"dataframe\">\n",
       "  <thead>\n",
       "    <tr style=\"text-align: right;\">\n",
       "      <th></th>\n",
       "      <th>AccountIdentifier</th>\n",
       "      <th>TransactionType</th>\n",
       "      <th>ReqTimeUTC</th>\n",
       "      <th>TransactionAmount</th>\n",
       "      <th>Status</th>\n",
       "    </tr>\n",
       "  </thead>\n",
       "  <tbody>\n",
       "    <tr>\n",
       "      <th>0</th>\n",
       "      <td>customer1</td>\n",
       "      <td>L1D</td>\n",
       "      <td>438</td>\n",
       "      <td>438</td>\n",
       "      <td>438</td>\n",
       "    </tr>\n",
       "    <tr>\n",
       "      <th>1</th>\n",
       "      <td>customer1</td>\n",
       "      <td>L2D</td>\n",
       "      <td>444</td>\n",
       "      <td>444</td>\n",
       "      <td>444</td>\n",
       "    </tr>\n",
       "    <tr>\n",
       "      <th>2</th>\n",
       "      <td>customer1</td>\n",
       "      <td>L2W</td>\n",
       "      <td>2</td>\n",
       "      <td>2</td>\n",
       "      <td>2</td>\n",
       "    </tr>\n",
       "    <tr>\n",
       "      <th>3</th>\n",
       "      <td>customer10</td>\n",
       "      <td>L1D</td>\n",
       "      <td>1164</td>\n",
       "      <td>1164</td>\n",
       "      <td>1164</td>\n",
       "    </tr>\n",
       "    <tr>\n",
       "      <th>4</th>\n",
       "      <td>customer10</td>\n",
       "      <td>L2D</td>\n",
       "      <td>1130</td>\n",
       "      <td>1130</td>\n",
       "      <td>1130</td>\n",
       "    </tr>\n",
       "    <tr>\n",
       "      <th>...</th>\n",
       "      <td>...</td>\n",
       "      <td>...</td>\n",
       "      <td>...</td>\n",
       "      <td>...</td>\n",
       "      <td>...</td>\n",
       "    </tr>\n",
       "    <tr>\n",
       "      <th>4984</th>\n",
       "      <td>customer997</td>\n",
       "      <td>L2D</td>\n",
       "      <td>1</td>\n",
       "      <td>1</td>\n",
       "      <td>1</td>\n",
       "    </tr>\n",
       "    <tr>\n",
       "      <th>4985</th>\n",
       "      <td>customer998</td>\n",
       "      <td>L1D</td>\n",
       "      <td>2</td>\n",
       "      <td>2</td>\n",
       "      <td>2</td>\n",
       "    </tr>\n",
       "    <tr>\n",
       "      <th>4986</th>\n",
       "      <td>customer998</td>\n",
       "      <td>L2D</td>\n",
       "      <td>2</td>\n",
       "      <td>2</td>\n",
       "      <td>2</td>\n",
       "    </tr>\n",
       "    <tr>\n",
       "      <th>4987</th>\n",
       "      <td>customer999</td>\n",
       "      <td>L1D</td>\n",
       "      <td>2</td>\n",
       "      <td>2</td>\n",
       "      <td>2</td>\n",
       "    </tr>\n",
       "    <tr>\n",
       "      <th>4988</th>\n",
       "      <td>customer999</td>\n",
       "      <td>L2D</td>\n",
       "      <td>2</td>\n",
       "      <td>2</td>\n",
       "      <td>2</td>\n",
       "    </tr>\n",
       "  </tbody>\n",
       "</table>\n",
       "<p>4989 rows × 5 columns</p>\n",
       "</div>"
      ],
      "text/plain": [
       "     AccountIdentifier TransactionType  ReqTimeUTC  TransactionAmount  Status\n",
       "0            customer1             L1D         438                438     438\n",
       "1            customer1             L2D         444                444     444\n",
       "2            customer1             L2W           2                  2       2\n",
       "3           customer10             L1D        1164               1164    1164\n",
       "4           customer10             L2D        1130               1130    1130\n",
       "...                ...             ...         ...                ...     ...\n",
       "4984       customer997             L2D           1                  1       1\n",
       "4985       customer998             L1D           2                  2       2\n",
       "4986       customer998             L2D           2                  2       2\n",
       "4987       customer999             L1D           2                  2       2\n",
       "4988       customer999             L2D           2                  2       2\n",
       "\n",
       "[4989 rows x 5 columns]"
      ]
     },
     "execution_count": 14,
     "metadata": {},
     "output_type": "execute_result"
    }
   ],
   "source": [
    "# Group the dataset by both 'AccountIdentifier' and 'TransactionType', then count the non-null values for each column within each group.\n",
    "# After counting, use 'reset_index()' to flatten the resulting hierarchical index and convert it back into a regular DataFrame.\n",
    "# This is useful for viewing the count of records per account and transaction type as a flat, easy-to-read table.\n",
    "\n",
    "\n",
    "casino.groupby([\"AccountIdentifier\",\"TransactionType\"]).count().reset_index()\n"
   ]
  },
  {
   "cell_type": "code",
   "execution_count": null,
   "metadata": {},
   "outputs": [
    {
     "name": "stderr",
     "output_type": "stream",
     "text": [
      "C:\\Users\\tulik\\AppData\\Roaming\\Python\\Python312\\site-packages\\seaborn\\_base.py:948: FutureWarning: When grouping with a length-1 list-like, you will need to pass a length-1 tuple to get_group in a future version of pandas. Pass `(name,)` instead of `name` to silence this warning.\n",
      "  data_subset = grouped_data.get_group(pd_key)\n",
      "C:\\Users\\tulik\\AppData\\Roaming\\Python\\Python312\\site-packages\\seaborn\\_base.py:948: FutureWarning: When grouping with a length-1 list-like, you will need to pass a length-1 tuple to get_group in a future version of pandas. Pass `(name,)` instead of `name` to silence this warning.\n",
      "  data_subset = grouped_data.get_group(pd_key)\n",
      "C:\\Users\\tulik\\AppData\\Roaming\\Python\\Python312\\site-packages\\seaborn\\_base.py:948: FutureWarning: When grouping with a length-1 list-like, you will need to pass a length-1 tuple to get_group in a future version of pandas. Pass `(name,)` instead of `name` to silence this warning.\n",
      "  data_subset = grouped_data.get_group(pd_key)\n",
      "C:\\Users\\tulik\\AppData\\Roaming\\Python\\Python312\\site-packages\\seaborn\\_base.py:948: FutureWarning: When grouping with a length-1 list-like, you will need to pass a length-1 tuple to get_group in a future version of pandas. Pass `(name,)` instead of `name` to silence this warning.\n",
      "  data_subset = grouped_data.get_group(pd_key)\n",
      "C:\\Users\\tulik\\AppData\\Roaming\\Python\\Python312\\site-packages\\seaborn\\_base.py:948: FutureWarning: When grouping with a length-1 list-like, you will need to pass a length-1 tuple to get_group in a future version of pandas. Pass `(name,)` instead of `name` to silence this warning.\n",
      "  data_subset = grouped_data.get_group(pd_key)\n",
      "C:\\Users\\tulik\\AppData\\Roaming\\Python\\Python312\\site-packages\\seaborn\\_base.py:948: FutureWarning: When grouping with a length-1 list-like, you will need to pass a length-1 tuple to get_group in a future version of pandas. Pass `(name,)` instead of `name` to silence this warning.\n",
      "  data_subset = grouped_data.get_group(pd_key)\n"
     ]
    },
    {
     "data": {
      "text/plain": [
       "<Axes: xlabel='ReqTimeUTC', ylabel='Density'>"
      ]
     },
     "execution_count": 15,
     "metadata": {},
     "output_type": "execute_result"
    },
    {
     "data": {
      "image/png": "[encoded data removed]",
      "text/plain": [
       "<Figure size 640x480 with 1 Axes>"
      ]
     },
     "metadata": {},
     "output_type": "display_data"
    }
   ],
   "source": [
    "# Group the dataset by 'AccountIdentifier' and 'TransactionType', then count the non-null values for each column.\n",
    "# Reset the index to flatten the grouped data into a structured DataFrame.\n",
    "\n",
    "user_type = casino.groupby([\"AccountIdentifier\",\"TransactionType\"]).count().reset_index()\n",
    "#sns.histplot(data = user_type, x=\"ReqTimeUTC\", bins=50, hue = \"TransactionType\")\n",
    "\n",
    "\n",
    "\n",
    "# Plot a cumulative density histogram of 'ReqTimeUTC' for different transaction types.\n",
    "# - 'hue=\"TransactionType\"' differentiates transaction types by color.\n",
    "# - 'cumulative=True' makes the histogram cumulative, showing the progressive distribution over time.\n",
    "# - 'stat=\"density\"' normalizes the counts so the total area sums to 1, useful for comparing distributions.\n",
    "# - 'element=\"step\"' draws the histogram as a step line instead of bars for better visualization of density.\n",
    "# - 'fill=False' removes fill to keep only the outline of the histogram for a cleaner look.\n",
    "\n",
    "sns.histplot(data = user_type, x=\"ReqTimeUTC\", hue = \"TransactionType\", cumulative = True, stat=\"density\", element=\"step\", fill = False )\n",
    "\n",
    "\n",
    "\n"
   ]
  },
  {
   "cell_type": "code",
   "execution_count": null,
   "metadata": {},
   "outputs": [
    {
     "data": {
      "text/plain": [
       "(69734, 5)"
      ]
     },
     "execution_count": 16,
     "metadata": {},
     "output_type": "execute_result"
    }
   ],
   "source": [
    "# Filter the dataset to include only transactions where:\n",
    "# - 'TransactionType' is \"L2D\" (specific transaction category)\n",
    "# - 'Status' is \"APPROVED\" (successful transactions)\n",
    "# This ensures we analyze only valid and relevant transactions.\n",
    "\n",
    "casino = casino[(casino.TransactionType == \"L2D\") & (casino.Status == \"APPROVED\" )].reset_index(drop=True)\n",
    "\n",
    "# Display the shape (number of rows and columns) of the filtered dataset\n",
    "# Helps verify if the filtering removed too many or too few rows.\n",
    "\n",
    "casino.shape"
   ]
  },
  {
   "cell_type": "code",
   "execution_count": null,
   "metadata": {},
   "outputs": [
    {
     "data": {
      "text/html": [
       "<div>\n",
       "<style scoped>\n",
       "    .dataframe tbody tr th:only-of-type {\n",
       "        vertical-align: middle;\n",
       "    }\n",
       "\n",
       "    .dataframe tbody tr th {\n",
       "        vertical-align: top;\n",
       "    }\n",
       "\n",
       "    .dataframe thead th {\n",
       "        text-align: right;\n",
       "    }\n",
       "</style>\n",
       "<table border=\"1\" class=\"dataframe\">\n",
       "  <thead>\n",
       "    <tr style=\"text-align: right;\">\n",
       "      <th></th>\n",
       "      <th>ReqTimeUTC</th>\n",
       "      <th>TransactionType</th>\n",
       "      <th>TransactionAmount</th>\n",
       "      <th>Status</th>\n",
       "    </tr>\n",
       "    <tr>\n",
       "      <th>AccountIdentifier</th>\n",
       "      <th></th>\n",
       "      <th></th>\n",
       "      <th></th>\n",
       "      <th></th>\n",
       "    </tr>\n",
       "  </thead>\n",
       "  <tbody>\n",
       "    <tr>\n",
       "      <th>customer1</th>\n",
       "      <td>444</td>\n",
       "      <td>444</td>\n",
       "      <td>444</td>\n",
       "      <td>444</td>\n",
       "    </tr>\n",
       "    <tr>\n",
       "      <th>customer10</th>\n",
       "      <td>1130</td>\n",
       "      <td>1130</td>\n",
       "      <td>1130</td>\n",
       "      <td>1130</td>\n",
       "    </tr>\n",
       "    <tr>\n",
       "      <th>customer100</th>\n",
       "      <td>56</td>\n",
       "      <td>56</td>\n",
       "      <td>56</td>\n",
       "      <td>56</td>\n",
       "    </tr>\n",
       "    <tr>\n",
       "      <th>customer1000</th>\n",
       "      <td>2</td>\n",
       "      <td>2</td>\n",
       "      <td>2</td>\n",
       "      <td>2</td>\n",
       "    </tr>\n",
       "    <tr>\n",
       "      <th>customer1001</th>\n",
       "      <td>23</td>\n",
       "      <td>23</td>\n",
       "      <td>23</td>\n",
       "      <td>23</td>\n",
       "    </tr>\n",
       "    <tr>\n",
       "      <th>...</th>\n",
       "      <td>...</td>\n",
       "      <td>...</td>\n",
       "      <td>...</td>\n",
       "      <td>...</td>\n",
       "    </tr>\n",
       "    <tr>\n",
       "      <th>customer995</th>\n",
       "      <td>6</td>\n",
       "      <td>6</td>\n",
       "      <td>6</td>\n",
       "      <td>6</td>\n",
       "    </tr>\n",
       "    <tr>\n",
       "      <th>customer996</th>\n",
       "      <td>3</td>\n",
       "      <td>3</td>\n",
       "      <td>3</td>\n",
       "      <td>3</td>\n",
       "    </tr>\n",
       "    <tr>\n",
       "      <th>customer997</th>\n",
       "      <td>1</td>\n",
       "      <td>1</td>\n",
       "      <td>1</td>\n",
       "      <td>1</td>\n",
       "    </tr>\n",
       "    <tr>\n",
       "      <th>customer998</th>\n",
       "      <td>2</td>\n",
       "      <td>2</td>\n",
       "      <td>2</td>\n",
       "      <td>2</td>\n",
       "    </tr>\n",
       "    <tr>\n",
       "      <th>customer999</th>\n",
       "      <td>2</td>\n",
       "      <td>2</td>\n",
       "      <td>2</td>\n",
       "      <td>2</td>\n",
       "    </tr>\n",
       "  </tbody>\n",
       "</table>\n",
       "<p>2280 rows × 4 columns</p>\n",
       "</div>"
      ],
      "text/plain": [
       "                   ReqTimeUTC  TransactionType  TransactionAmount  Status\n",
       "AccountIdentifier                                                        \n",
       "customer1                 444              444                444     444\n",
       "customer10               1130             1130               1130    1130\n",
       "customer100                56               56                 56      56\n",
       "customer1000                2                2                  2       2\n",
       "customer1001               23               23                 23      23\n",
       "...                       ...              ...                ...     ...\n",
       "customer995                 6                6                  6       6\n",
       "customer996                 3                3                  3       3\n",
       "customer997                 1                1                  1       1\n",
       "customer998                 2                2                  2       2\n",
       "customer999                 2                2                  2       2\n",
       "\n",
       "[2280 rows x 4 columns]"
      ]
     },
     "execution_count": 17,
     "metadata": {},
     "output_type": "execute_result"
    }
   ],
   "source": [
    "# Group the dataset by 'AccountIdentifier' and count the number of occurrences for each account.\n",
    "# This helps analyze user activity by checking how many transactions each account has.\n",
    "\n",
    "casino.groupby(\"AccountIdentifier\").count()"
   ]
  },
  {
   "cell_type": "code",
   "execution_count": null,
   "metadata": {},
   "outputs": [
    {
     "data": {
      "text/html": [
       "<div>\n",
       "<style scoped>\n",
       "    .dataframe tbody tr th:only-of-type {\n",
       "        vertical-align: middle;\n",
       "    }\n",
       "\n",
       "    .dataframe tbody tr th {\n",
       "        vertical-align: top;\n",
       "    }\n",
       "\n",
       "    .dataframe thead th {\n",
       "        text-align: right;\n",
       "    }\n",
       "</style>\n",
       "<table border=\"1\" class=\"dataframe\">\n",
       "  <thead>\n",
       "    <tr style=\"text-align: right;\">\n",
       "      <th></th>\n",
       "      <th>AccountIdentifier</th>\n",
       "      <th>ReqTimeUTC</th>\n",
       "    </tr>\n",
       "  </thead>\n",
       "  <tbody>\n",
       "    <tr>\n",
       "      <th>0</th>\n",
       "      <td>customer1</td>\n",
       "      <td>444</td>\n",
       "    </tr>\n",
       "    <tr>\n",
       "      <th>1</th>\n",
       "      <td>customer10</td>\n",
       "      <td>1130</td>\n",
       "    </tr>\n",
       "    <tr>\n",
       "      <th>2</th>\n",
       "      <td>customer100</td>\n",
       "      <td>56</td>\n",
       "    </tr>\n",
       "    <tr>\n",
       "      <th>3</th>\n",
       "      <td>customer1000</td>\n",
       "      <td>2</td>\n",
       "    </tr>\n",
       "    <tr>\n",
       "      <th>4</th>\n",
       "      <td>customer1001</td>\n",
       "      <td>23</td>\n",
       "    </tr>\n",
       "    <tr>\n",
       "      <th>...</th>\n",
       "      <td>...</td>\n",
       "      <td>...</td>\n",
       "    </tr>\n",
       "    <tr>\n",
       "      <th>2275</th>\n",
       "      <td>customer995</td>\n",
       "      <td>6</td>\n",
       "    </tr>\n",
       "    <tr>\n",
       "      <th>2276</th>\n",
       "      <td>customer996</td>\n",
       "      <td>3</td>\n",
       "    </tr>\n",
       "    <tr>\n",
       "      <th>2277</th>\n",
       "      <td>customer997</td>\n",
       "      <td>1</td>\n",
       "    </tr>\n",
       "    <tr>\n",
       "      <th>2278</th>\n",
       "      <td>customer998</td>\n",
       "      <td>2</td>\n",
       "    </tr>\n",
       "    <tr>\n",
       "      <th>2279</th>\n",
       "      <td>customer999</td>\n",
       "      <td>2</td>\n",
       "    </tr>\n",
       "  </tbody>\n",
       "</table>\n",
       "<p>2280 rows × 2 columns</p>\n",
       "</div>"
      ],
      "text/plain": [
       "     AccountIdentifier  ReqTimeUTC\n",
       "0            customer1         444\n",
       "1           customer10        1130\n",
       "2          customer100          56\n",
       "3         customer1000           2\n",
       "4         customer1001          23\n",
       "...                ...         ...\n",
       "2275       customer995           6\n",
       "2276       customer996           3\n",
       "2277       customer997           1\n",
       "2278       customer998           2\n",
       "2279       customer999           2\n",
       "\n",
       "[2280 rows x 2 columns]"
      ]
     },
     "execution_count": 18,
     "metadata": {},
     "output_type": "execute_result"
    }
   ],
   "source": [
    "# Group the dataset by 'AccountIdentifier' and count the number of transactions per account.\n",
    "# Reset the index to convert 'AccountIdentifier' back into a column.\n",
    "# Select only the first two columns (AccountIdentifier and the count of transactions)\n",
    "# to focus on account-wise transaction counts.\n",
    "\n",
    "casino.groupby(\"AccountIdentifier\").count().reset_index().iloc[:,0:2]"
   ]
  },
  {
   "cell_type": "code",
   "execution_count": null,
   "metadata": {},
   "outputs": [
    {
     "data": {
      "text/html": [
       "<div>\n",
       "<style scoped>\n",
       "    .dataframe tbody tr th:only-of-type {\n",
       "        vertical-align: middle;\n",
       "    }\n",
       "\n",
       "    .dataframe tbody tr th {\n",
       "        vertical-align: top;\n",
       "    }\n",
       "\n",
       "    .dataframe thead th {\n",
       "        text-align: right;\n",
       "    }\n",
       "</style>\n",
       "<table border=\"1\" class=\"dataframe\">\n",
       "  <thead>\n",
       "    <tr style=\"text-align: right;\">\n",
       "      <th></th>\n",
       "      <th>AccountIdentifier</th>\n",
       "      <th>ReqTimeUTC</th>\n",
       "    </tr>\n",
       "  </thead>\n",
       "  <tbody>\n",
       "    <tr>\n",
       "      <th>1139</th>\n",
       "      <td>customer2039</td>\n",
       "      <td>1</td>\n",
       "    </tr>\n",
       "    <tr>\n",
       "      <th>1131</th>\n",
       "      <td>customer2031</td>\n",
       "      <td>1</td>\n",
       "    </tr>\n",
       "    <tr>\n",
       "      <th>1130</th>\n",
       "      <td>customer2030</td>\n",
       "      <td>1</td>\n",
       "    </tr>\n",
       "    <tr>\n",
       "      <th>618</th>\n",
       "      <td>customer1561</td>\n",
       "      <td>1</td>\n",
       "    </tr>\n",
       "    <tr>\n",
       "      <th>619</th>\n",
       "      <td>customer1562</td>\n",
       "      <td>1</td>\n",
       "    </tr>\n",
       "    <tr>\n",
       "      <th>...</th>\n",
       "      <td>...</td>\n",
       "      <td>...</td>\n",
       "    </tr>\n",
       "    <tr>\n",
       "      <th>2236</th>\n",
       "      <td>customer96</td>\n",
       "      <td>900</td>\n",
       "    </tr>\n",
       "    <tr>\n",
       "      <th>1506</th>\n",
       "      <td>customer3</td>\n",
       "      <td>941</td>\n",
       "    </tr>\n",
       "    <tr>\n",
       "      <th>1462</th>\n",
       "      <td>customer26</td>\n",
       "      <td>992</td>\n",
       "    </tr>\n",
       "    <tr>\n",
       "      <th>223</th>\n",
       "      <td>customer120</td>\n",
       "      <td>998</td>\n",
       "    </tr>\n",
       "    <tr>\n",
       "      <th>1</th>\n",
       "      <td>customer10</td>\n",
       "      <td>1130</td>\n",
       "    </tr>\n",
       "  </tbody>\n",
       "</table>\n",
       "<p>2280 rows × 2 columns</p>\n",
       "</div>"
      ],
      "text/plain": [
       "     AccountIdentifier  ReqTimeUTC\n",
       "1139      customer2039           1\n",
       "1131      customer2031           1\n",
       "1130      customer2030           1\n",
       "618       customer1561           1\n",
       "619       customer1562           1\n",
       "...                ...         ...\n",
       "2236        customer96         900\n",
       "1506         customer3         941\n",
       "1462        customer26         992\n",
       "223        customer120         998\n",
       "1           customer10        1130\n",
       "\n",
       "[2280 rows x 2 columns]"
      ]
     },
     "execution_count": 19,
     "metadata": {},
     "output_type": "execute_result"
    }
   ],
   "source": [
    "# Group the dataset by 'AccountIdentifier' and count the number of transactions per account.\n",
    "# Reset the index to convert 'AccountIdentifier' back into a column.\n",
    "# Select only the first two columns (AccountIdentifier and transaction count).\n",
    "# Sort the result by 'ReqTimeUTC' to analyze transaction activity over time.\n",
    "\n",
    "casino.groupby(\"AccountIdentifier\").count().reset_index().iloc[:,0:2].sort_values(\"ReqTimeUTC\")"
   ]
  },
  {
   "cell_type": "code",
   "execution_count": null,
   "metadata": {},
   "outputs": [
    {
     "data": {
      "text/html": [
       "<div>\n",
       "<style scoped>\n",
       "    .dataframe tbody tr th:only-of-type {\n",
       "        vertical-align: middle;\n",
       "    }\n",
       "\n",
       "    .dataframe tbody tr th {\n",
       "        vertical-align: top;\n",
       "    }\n",
       "\n",
       "    .dataframe thead th {\n",
       "        text-align: right;\n",
       "    }\n",
       "</style>\n",
       "<table border=\"1\" class=\"dataframe\">\n",
       "  <thead>\n",
       "    <tr style=\"text-align: right;\">\n",
       "      <th></th>\n",
       "      <th>AccountIdentifier</th>\n",
       "      <th>ReqTimeUTC</th>\n",
       "    </tr>\n",
       "  </thead>\n",
       "  <tbody>\n",
       "    <tr>\n",
       "      <th>1</th>\n",
       "      <td>customer10</td>\n",
       "      <td>1130</td>\n",
       "    </tr>\n",
       "    <tr>\n",
       "      <th>223</th>\n",
       "      <td>customer120</td>\n",
       "      <td>998</td>\n",
       "    </tr>\n",
       "    <tr>\n",
       "      <th>1462</th>\n",
       "      <td>customer26</td>\n",
       "      <td>992</td>\n",
       "    </tr>\n",
       "    <tr>\n",
       "      <th>1506</th>\n",
       "      <td>customer3</td>\n",
       "      <td>941</td>\n",
       "    </tr>\n",
       "    <tr>\n",
       "      <th>2236</th>\n",
       "      <td>customer96</td>\n",
       "      <td>900</td>\n",
       "    </tr>\n",
       "    <tr>\n",
       "      <th>...</th>\n",
       "      <td>...</td>\n",
       "      <td>...</td>\n",
       "    </tr>\n",
       "    <tr>\n",
       "      <th>619</th>\n",
       "      <td>customer1562</td>\n",
       "      <td>1</td>\n",
       "    </tr>\n",
       "    <tr>\n",
       "      <th>618</th>\n",
       "      <td>customer1561</td>\n",
       "      <td>1</td>\n",
       "    </tr>\n",
       "    <tr>\n",
       "      <th>1130</th>\n",
       "      <td>customer2030</td>\n",
       "      <td>1</td>\n",
       "    </tr>\n",
       "    <tr>\n",
       "      <th>1131</th>\n",
       "      <td>customer2031</td>\n",
       "      <td>1</td>\n",
       "    </tr>\n",
       "    <tr>\n",
       "      <th>1139</th>\n",
       "      <td>customer2039</td>\n",
       "      <td>1</td>\n",
       "    </tr>\n",
       "  </tbody>\n",
       "</table>\n",
       "<p>2280 rows × 2 columns</p>\n",
       "</div>"
      ],
      "text/plain": [
       "     AccountIdentifier  ReqTimeUTC\n",
       "1           customer10        1130\n",
       "223        customer120         998\n",
       "1462        customer26         992\n",
       "1506         customer3         941\n",
       "2236        customer96         900\n",
       "...                ...         ...\n",
       "619       customer1562           1\n",
       "618       customer1561           1\n",
       "1130      customer2030           1\n",
       "1131      customer2031           1\n",
       "1139      customer2039           1\n",
       "\n",
       "[2280 rows x 2 columns]"
      ]
     },
     "execution_count": 20,
     "metadata": {},
     "output_type": "execute_result"
    }
   ],
   "source": [
    "# Sort the result by 'ReqTimeUTC' in ascending order.\n",
    "# Reverse the order (descending) using [::-1] to get the latest transactions first.\n",
    "casino.groupby(\"AccountIdentifier\").count().reset_index().iloc[:,0:2].sort_values(\"ReqTimeUTC\")[::-1]"
   ]
  },
  {
   "cell_type": "code",
   "execution_count": null,
   "metadata": {},
   "outputs": [],
   "source": [
    "# Identify the top 20 most frequent users based on transaction count.\n",
    "# 1. Group by 'AccountIdentifier' and count the number of transactions per account.\n",
    "# 2. Reset the index to convert 'AccountIdentifier' back into a column.\n",
    "# 3. Select only the first two columns (AccountIdentifier and transaction count).\n",
    "# 4. Sort by 'ReqTimeUTC' in descending order to get the latest transactions first.\n",
    "# 5. Select the top 20 most frequent users.\n",
    "\n",
    "top_20_ferq = casino.groupby(\"AccountIdentifier\").count().reset_index().iloc[:,0:2].sort_values(\"ReqTimeUTC\")[::-1][0:20]\n",
    "\n",
    "# Identify the top 20 spenders based on total transaction amount.\n",
    "# 1. Select 'AccountIdentifier' and 'TransactionAmount' for analysis.\n",
    "# 2. Group by 'AccountIdentifier' and sum up the 'TransactionAmount' for each account.\n",
    "# 3. Reset the index to convert 'AccountIdentifier' back into a column.\n",
    "# 4. Sort by 'TransactionAmount' in descending order to get the highest spenders first.\n",
    "# 5. Select the top 20 spenders.\n",
    "\n",
    "top_20_spenders = casino[[\"AccountIdentifier\",\"TransactionAmount\"]].groupby(\"AccountIdentifier\").sum().reset_index().sort_values(\"TransactionAmount\")[::-1][0:20]\n"
   ]
  },
  {
   "cell_type": "code",
   "execution_count": null,
   "metadata": {},
   "outputs": [
    {
     "data": {
      "text/plain": [
       "<Axes: xlabel='TransactionAmount', ylabel='AccountIdentifier'>"
      ]
     },
     "execution_count": 22,
     "metadata": {},
     "output_type": "execute_result"
    },
    {
     "data": {
      "image/png": "[encoded data removed]",
      "text/plain": [
       "<Figure size 640x480 with 2 Axes>"
      ]
     },
     "metadata": {},
     "output_type": "display_data"
    }
   ],
   "source": [
    "# Create a figure with two subplots arranged in one row (2 columns).\n",
    "fig, ax = plt.subplots(ncols = 2)\n",
    "\n",
    "# Plot a bar chart for the top 20 most frequent users:\n",
    "# - 'ReqTimeUTC' represents the number of transactions.\n",
    "# - 'AccountIdentifier' represents the user.\n",
    "# - The plot is assigned to the first subplot (ax[0]).\n",
    "\n",
    "sns.barplot(top_20_ferq, x=\"ReqTimeUTC\", y =\"AccountIdentifier\", ax = ax[0])\n",
    "\n",
    "# Plot a bar chart for the top 20 highest spenders:\n",
    "# - 'TransactionAmount' represents the total amount spent.\n",
    "# - 'AccountIdentifier' represents the user.\n",
    "# - The plot is assigned to the second subplot (ax[1]).\n",
    "\n",
    "sns.barplot(top_20_spenders, x=\"TransactionAmount\", y =\"AccountIdentifier\", ax = ax[1])"
   ]
  },
  {
   "cell_type": "code",
   "execution_count": null,
   "metadata": {},
   "outputs": [
    {
     "data": {
      "text/html": [
       "<div>\n",
       "<style scoped>\n",
       "    .dataframe tbody tr th:only-of-type {\n",
       "        vertical-align: middle;\n",
       "    }\n",
       "\n",
       "    .dataframe tbody tr th {\n",
       "        vertical-align: top;\n",
       "    }\n",
       "\n",
       "    .dataframe thead th {\n",
       "        text-align: right;\n",
       "    }\n",
       "</style>\n",
       "<table border=\"1\" class=\"dataframe\">\n",
       "  <thead>\n",
       "    <tr style=\"text-align: right;\">\n",
       "      <th></th>\n",
       "      <th>ReqTimeUTC</th>\n",
       "      <th>TransactionType</th>\n",
       "      <th>TransactionAmount</th>\n",
       "      <th>Status</th>\n",
       "      <th>AccountIdentifier</th>\n",
       "      <th>hour</th>\n",
       "      <th>day_of_week</th>\n",
       "    </tr>\n",
       "  </thead>\n",
       "  <tbody>\n",
       "    <tr>\n",
       "      <th>0</th>\n",
       "      <td>2019-07-05 05:02:28+00:00</td>\n",
       "      <td>L2D</td>\n",
       "      <td>10.0</td>\n",
       "      <td>APPROVED</td>\n",
       "      <td>customer1734</td>\n",
       "      <td>5</td>\n",
       "      <td>4_Thrusday</td>\n",
       "    </tr>\n",
       "    <tr>\n",
       "      <th>1</th>\n",
       "      <td>2019-07-05 05:26:00+00:00</td>\n",
       "      <td>L2D</td>\n",
       "      <td>10.0</td>\n",
       "      <td>APPROVED</td>\n",
       "      <td>customer1734</td>\n",
       "      <td>5</td>\n",
       "      <td>4_Thrusday</td>\n",
       "    </tr>\n",
       "    <tr>\n",
       "      <th>2</th>\n",
       "      <td>2019-07-05 04:54:37+00:00</td>\n",
       "      <td>L2D</td>\n",
       "      <td>10.0</td>\n",
       "      <td>APPROVED</td>\n",
       "      <td>customer1734</td>\n",
       "      <td>4</td>\n",
       "      <td>4_Thrusday</td>\n",
       "    </tr>\n",
       "    <tr>\n",
       "      <th>3</th>\n",
       "      <td>2020-02-02 06:50:37+00:00</td>\n",
       "      <td>L2D</td>\n",
       "      <td>50.0</td>\n",
       "      <td>APPROVED</td>\n",
       "      <td>customer935</td>\n",
       "      <td>6</td>\n",
       "      <td>1_Saturday</td>\n",
       "    </tr>\n",
       "    <tr>\n",
       "      <th>4</th>\n",
       "      <td>2019-12-13 12:29:32+00:00</td>\n",
       "      <td>L2D</td>\n",
       "      <td>100.0</td>\n",
       "      <td>APPROVED</td>\n",
       "      <td>customer935</td>\n",
       "      <td>12</td>\n",
       "      <td>4_Thrusday</td>\n",
       "    </tr>\n",
       "    <tr>\n",
       "      <th>...</th>\n",
       "      <td>...</td>\n",
       "      <td>...</td>\n",
       "      <td>...</td>\n",
       "      <td>...</td>\n",
       "      <td>...</td>\n",
       "      <td>...</td>\n",
       "      <td>...</td>\n",
       "    </tr>\n",
       "    <tr>\n",
       "      <th>69729</th>\n",
       "      <td>2020-02-12 10:54:47+00:00</td>\n",
       "      <td>L2D</td>\n",
       "      <td>10.0</td>\n",
       "      <td>APPROVED</td>\n",
       "      <td>customer1576</td>\n",
       "      <td>10</td>\n",
       "      <td>2_Tuesday</td>\n",
       "    </tr>\n",
       "    <tr>\n",
       "      <th>69730</th>\n",
       "      <td>2019-08-24 21:32:43+00:00</td>\n",
       "      <td>L2D</td>\n",
       "      <td>10.0</td>\n",
       "      <td>APPROVED</td>\n",
       "      <td>customer1874</td>\n",
       "      <td>21</td>\n",
       "      <td>5_Friday</td>\n",
       "    </tr>\n",
       "    <tr>\n",
       "      <th>69731</th>\n",
       "      <td>2019-11-01 06:51:07+00:00</td>\n",
       "      <td>L2D</td>\n",
       "      <td>30.0</td>\n",
       "      <td>APPROVED</td>\n",
       "      <td>customer1994</td>\n",
       "      <td>6</td>\n",
       "      <td>4_Thrusday</td>\n",
       "    </tr>\n",
       "    <tr>\n",
       "      <th>69732</th>\n",
       "      <td>2019-05-23 20:02:49+00:00</td>\n",
       "      <td>L2D</td>\n",
       "      <td>10.0</td>\n",
       "      <td>APPROVED</td>\n",
       "      <td>customer2215</td>\n",
       "      <td>20</td>\n",
       "      <td>3_Wednesday</td>\n",
       "    </tr>\n",
       "    <tr>\n",
       "      <th>69733</th>\n",
       "      <td>2019-07-11 23:01:09+00:00</td>\n",
       "      <td>L2D</td>\n",
       "      <td>10.0</td>\n",
       "      <td>APPROVED</td>\n",
       "      <td>customer2215</td>\n",
       "      <td>23</td>\n",
       "      <td>3_Wednesday</td>\n",
       "    </tr>\n",
       "  </tbody>\n",
       "</table>\n",
       "<p>69734 rows × 7 columns</p>\n",
       "</div>"
      ],
      "text/plain": [
       "                     ReqTimeUTC TransactionType  TransactionAmount    Status  \\\n",
       "0     2019-07-05 05:02:28+00:00             L2D               10.0  APPROVED   \n",
       "1     2019-07-05 05:26:00+00:00             L2D               10.0  APPROVED   \n",
       "2     2019-07-05 04:54:37+00:00             L2D               10.0  APPROVED   \n",
       "3     2020-02-02 06:50:37+00:00             L2D               50.0  APPROVED   \n",
       "4     2019-12-13 12:29:32+00:00             L2D              100.0  APPROVED   \n",
       "...                         ...             ...                ...       ...   \n",
       "69729 2020-02-12 10:54:47+00:00             L2D               10.0  APPROVED   \n",
       "69730 2019-08-24 21:32:43+00:00             L2D               10.0  APPROVED   \n",
       "69731 2019-11-01 06:51:07+00:00             L2D               30.0  APPROVED   \n",
       "69732 2019-05-23 20:02:49+00:00             L2D               10.0  APPROVED   \n",
       "69733 2019-07-11 23:01:09+00:00             L2D               10.0  APPROVED   \n",
       "\n",
       "      AccountIdentifier  hour  day_of_week  \n",
       "0          customer1734     5   4_Thrusday  \n",
       "1          customer1734     5   4_Thrusday  \n",
       "2          customer1734     4   4_Thrusday  \n",
       "3           customer935     6   1_Saturday  \n",
       "4           customer935    12   4_Thrusday  \n",
       "...                 ...   ...          ...  \n",
       "69729      customer1576    10    2_Tuesday  \n",
       "69730      customer1874    21     5_Friday  \n",
       "69731      customer1994     6   4_Thrusday  \n",
       "69732      customer2215    20  3_Wednesday  \n",
       "69733      customer2215    23  3_Wednesday  \n",
       "\n",
       "[69734 rows x 7 columns]"
      ]
     },
     "execution_count": 23,
     "metadata": {},
     "output_type": "execute_result"
    }
   ],
   "source": [
    "# Extract the hour from 'ReqTimeUTC' and create a new column 'hour'.\n",
    "# This helps analyze transaction patterns based on the time of day.\n",
    "\n",
    "casino[\"hour\"] = casino.ReqTimeUTC.dt.hour\n",
    "\n",
    "# Extract the day of the week from 'ReqTimeUTC' and create a new column 'day_of_week'.\n",
    "# The day_of_week is represented as an integer (Monday = 0, Sunday = 6).\n",
    "\n",
    "casino[\"day_of_week\"] = casino.ReqTimeUTC.dt.day_of_week\n",
    "\n",
    "# Define a mapping dictionary to rename days with numbered labels for better sorting.\n",
    "\n",
    "day_of_week_dict = {1:\"1_Monday\",2:\"2_Tuesday\",3:\"3_Wednesday\",4:\"4_Thrusday\",5:\"5_Friday\",6:\"1_Saturday\",7:\"7_Sunday\"}\n",
    "\n",
    "# Map the numeric day_of_week values to the formatted names for better readability.\n",
    "\n",
    "casino[\"day_of_week\"] = casino[\"day_of_week\"].map(day_of_week_dict) \n",
    "\n",
    "# Display the updated DataFrame with new 'hour' and 'day_of_week' columns.\n",
    "\n",
    "casino"
   ]
  },
  {
   "cell_type": "code",
   "execution_count": null,
   "metadata": {},
   "outputs": [
    {
     "data": {
      "text/html": [
       "<div>\n",
       "<style scoped>\n",
       "    .dataframe tbody tr th:only-of-type {\n",
       "        vertical-align: middle;\n",
       "    }\n",
       "\n",
       "    .dataframe tbody tr th {\n",
       "        vertical-align: top;\n",
       "    }\n",
       "\n",
       "    .dataframe thead th {\n",
       "        text-align: right;\n",
       "    }\n",
       "</style>\n",
       "<table border=\"1\" class=\"dataframe\">\n",
       "  <thead>\n",
       "    <tr style=\"text-align: right;\">\n",
       "      <th></th>\n",
       "      <th>hour</th>\n",
       "      <th>day_of_week</th>\n",
       "      <th>TransactionType</th>\n",
       "    </tr>\n",
       "  </thead>\n",
       "  <tbody>\n",
       "    <tr>\n",
       "      <th>0</th>\n",
       "      <td>5</td>\n",
       "      <td>4_Thrusday</td>\n",
       "      <td>L2D</td>\n",
       "    </tr>\n",
       "    <tr>\n",
       "      <th>1</th>\n",
       "      <td>5</td>\n",
       "      <td>4_Thrusday</td>\n",
       "      <td>L2D</td>\n",
       "    </tr>\n",
       "    <tr>\n",
       "      <th>2</th>\n",
       "      <td>4</td>\n",
       "      <td>4_Thrusday</td>\n",
       "      <td>L2D</td>\n",
       "    </tr>\n",
       "    <tr>\n",
       "      <th>3</th>\n",
       "      <td>6</td>\n",
       "      <td>1_Saturday</td>\n",
       "      <td>L2D</td>\n",
       "    </tr>\n",
       "    <tr>\n",
       "      <th>4</th>\n",
       "      <td>12</td>\n",
       "      <td>4_Thrusday</td>\n",
       "      <td>L2D</td>\n",
       "    </tr>\n",
       "    <tr>\n",
       "      <th>...</th>\n",
       "      <td>...</td>\n",
       "      <td>...</td>\n",
       "      <td>...</td>\n",
       "    </tr>\n",
       "    <tr>\n",
       "      <th>69729</th>\n",
       "      <td>10</td>\n",
       "      <td>2_Tuesday</td>\n",
       "      <td>L2D</td>\n",
       "    </tr>\n",
       "    <tr>\n",
       "      <th>69730</th>\n",
       "      <td>21</td>\n",
       "      <td>5_Friday</td>\n",
       "      <td>L2D</td>\n",
       "    </tr>\n",
       "    <tr>\n",
       "      <th>69731</th>\n",
       "      <td>6</td>\n",
       "      <td>4_Thrusday</td>\n",
       "      <td>L2D</td>\n",
       "    </tr>\n",
       "    <tr>\n",
       "      <th>69732</th>\n",
       "      <td>20</td>\n",
       "      <td>3_Wednesday</td>\n",
       "      <td>L2D</td>\n",
       "    </tr>\n",
       "    <tr>\n",
       "      <th>69733</th>\n",
       "      <td>23</td>\n",
       "      <td>3_Wednesday</td>\n",
       "      <td>L2D</td>\n",
       "    </tr>\n",
       "  </tbody>\n",
       "</table>\n",
       "<p>69734 rows × 3 columns</p>\n",
       "</div>"
      ],
      "text/plain": [
       "       hour  day_of_week TransactionType\n",
       "0         5   4_Thrusday             L2D\n",
       "1         5   4_Thrusday             L2D\n",
       "2         4   4_Thrusday             L2D\n",
       "3         6   1_Saturday             L2D\n",
       "4        12   4_Thrusday             L2D\n",
       "...     ...          ...             ...\n",
       "69729    10    2_Tuesday             L2D\n",
       "69730    21     5_Friday             L2D\n",
       "69731     6   4_Thrusday             L2D\n",
       "69732    20  3_Wednesday             L2D\n",
       "69733    23  3_Wednesday             L2D\n",
       "\n",
       "[69734 rows x 3 columns]"
      ]
     },
     "execution_count": 24,
     "metadata": {},
     "output_type": "execute_result"
    }
   ],
   "source": [
    "# Select and display specific columns from the dataset:\n",
    "# - 'hour': Represents the hour of the transaction (extracted from 'ReqTimeUTC').\n",
    "# - 'day_of_week': Represents the day of the transaction (mapped to a readable format).\n",
    "# - 'TransactionType': Indicates the type of transaction performed.\n",
    "\n",
    "casino[['hour', 'day_of_week', 'TransactionType']]\n"
   ]
  },
  {
   "cell_type": "code",
   "execution_count": null,
   "metadata": {},
   "outputs": [
    {
     "data": {
      "text/plain": [
       "<Axes: xlabel='hour', ylabel='day_of_week'>"
      ]
     },
     "execution_count": 25,
     "metadata": {},
     "output_type": "execute_result"
    },
    {
     "data": {
      "image/png": "[encoded data removed]",
      "text/plain": [
       "<Figure size 640x480 with 2 Axes>"
      ]
     },
     "metadata": {},
     "output_type": "display_data"
    }
   ],
   "source": [
    "# Group the dataset by 'hour' and 'day_of_week', counting the number of transactions.\n",
    "# - This helps analyze transaction frequency based on time and day.\n",
    "\n",
    "h_d_g = casino[['hour', 'day_of_week', 'TransactionType']].groupby(['hour', 'day_of_week']).count().reset_index()\n",
    "\n",
    "# Create a pivot table where:\n",
    "# - Rows ('index') represent 'day_of_week'.\n",
    "# - Columns represent transaction 'hour'.\n",
    "# - Values are the count of 'TransactionType' (number of transactions).\n",
    "\n",
    "casino_hm = pd.pivot_table(h_d_g, values='TransactionType', index='day_of_week', columns='hour')\n",
    "\n",
    "# Generate a heatmap to visualize transaction frequency by day and hour.\n",
    "# - Darker colors indicate fewer transactions, while brighter colors indicate more.\n",
    "\n",
    "sns.heatmap(casino_hm)"
   ]
  },
  {
   "cell_type": "code",
   "execution_count": null,
   "metadata": {},
   "outputs": [
    {
     "name": "stderr",
     "output_type": "stream",
     "text": [
      "C:\\Users\\tulik\\AppData\\Local\\Temp\\ipykernel_28440\\3740699593.py:2: UserWarning: Converting to PeriodArray/Index representation will drop timezone information.\n",
      "  casino['ReqTimeUTC'] = casino.ReqTimeUTC.dt.to_period('D')\n"
     ]
    },
    {
     "data": {
      "text/html": [
       "<div>\n",
       "<style scoped>\n",
       "    .dataframe tbody tr th:only-of-type {\n",
       "        vertical-align: middle;\n",
       "    }\n",
       "\n",
       "    .dataframe tbody tr th {\n",
       "        vertical-align: top;\n",
       "    }\n",
       "\n",
       "    .dataframe thead th {\n",
       "        text-align: right;\n",
       "    }\n",
       "</style>\n",
       "<table border=\"1\" class=\"dataframe\">\n",
       "  <thead>\n",
       "    <tr style=\"text-align: right;\">\n",
       "      <th></th>\n",
       "      <th>ReqTimeUTC</th>\n",
       "      <th>TransactionType</th>\n",
       "      <th>TransactionAmount</th>\n",
       "      <th>Status</th>\n",
       "      <th>AccountIdentifier</th>\n",
       "      <th>hour</th>\n",
       "      <th>day_of_week</th>\n",
       "    </tr>\n",
       "  </thead>\n",
       "  <tbody>\n",
       "    <tr>\n",
       "      <th>0</th>\n",
       "      <td>2019-07-05</td>\n",
       "      <td>L2D</td>\n",
       "      <td>10.0</td>\n",
       "      <td>APPROVED</td>\n",
       "      <td>customer1734</td>\n",
       "      <td>5</td>\n",
       "      <td>4_Thrusday</td>\n",
       "    </tr>\n",
       "    <tr>\n",
       "      <th>1</th>\n",
       "      <td>2019-07-05</td>\n",
       "      <td>L2D</td>\n",
       "      <td>10.0</td>\n",
       "      <td>APPROVED</td>\n",
       "      <td>customer1734</td>\n",
       "      <td>5</td>\n",
       "      <td>4_Thrusday</td>\n",
       "    </tr>\n",
       "    <tr>\n",
       "      <th>2</th>\n",
       "      <td>2019-07-05</td>\n",
       "      <td>L2D</td>\n",
       "      <td>10.0</td>\n",
       "      <td>APPROVED</td>\n",
       "      <td>customer1734</td>\n",
       "      <td>4</td>\n",
       "      <td>4_Thrusday</td>\n",
       "    </tr>\n",
       "    <tr>\n",
       "      <th>3</th>\n",
       "      <td>2020-02-02</td>\n",
       "      <td>L2D</td>\n",
       "      <td>50.0</td>\n",
       "      <td>APPROVED</td>\n",
       "      <td>customer935</td>\n",
       "      <td>6</td>\n",
       "      <td>1_Saturday</td>\n",
       "    </tr>\n",
       "    <tr>\n",
       "      <th>4</th>\n",
       "      <td>2019-12-13</td>\n",
       "      <td>L2D</td>\n",
       "      <td>100.0</td>\n",
       "      <td>APPROVED</td>\n",
       "      <td>customer935</td>\n",
       "      <td>12</td>\n",
       "      <td>4_Thrusday</td>\n",
       "    </tr>\n",
       "  </tbody>\n",
       "</table>\n",
       "</div>"
      ],
      "text/plain": [
       "   ReqTimeUTC TransactionType  TransactionAmount    Status AccountIdentifier  \\\n",
       "0  2019-07-05             L2D               10.0  APPROVED      customer1734   \n",
       "1  2019-07-05             L2D               10.0  APPROVED      customer1734   \n",
       "2  2019-07-05             L2D               10.0  APPROVED      customer1734   \n",
       "3  2020-02-02             L2D               50.0  APPROVED       customer935   \n",
       "4  2019-12-13             L2D              100.0  APPROVED       customer935   \n",
       "\n",
       "   hour day_of_week  \n",
       "0     5  4_Thrusday  \n",
       "1     5  4_Thrusday  \n",
       "2     4  4_Thrusday  \n",
       "3     6  1_Saturday  \n",
       "4    12  4_Thrusday  "
      ]
     },
     "execution_count": 26,
     "metadata": {},
     "output_type": "execute_result"
    }
   ],
   "source": [
    "# Convert 'ReqTimeUTC' from a full timestamp to a period format representing only the date (YYYY-MM-DD).\n",
    "# - This removes the time component, making it easier to analyze daily trends.\n",
    "# - The data type changes from 'datetime64[ns, UTC]' to 'period[D]'.\n",
    "\n",
    "casino['ReqTimeUTC'] = casino.ReqTimeUTC.dt.to_period('D')\n",
    "\n",
    "# Display the first few rows of the updated dataset.\n",
    "\n",
    "casino.head()"
   ]
  },
  {
   "cell_type": "code",
   "execution_count": null,
   "metadata": {},
   "outputs": [],
   "source": [
    "\n",
    "# Aggregate daily transaction activity per account:\n",
    "# - Group by 'AccountIdentifier' and 'ReqTimeUTC' (now in daily format).\n",
    "# - Aggregate:\n",
    "#   - 'TransactionAmount': Sum the total transaction amount per day.\n",
    "#   - 'TransactionType': Count the number of transactions per day (indicating activity level).\n",
    "# - Reset the index to convert the grouped data back into a DataFrame.\n",
    "daily_activity = casino.groupby(['AccountIdentifier', 'ReqTimeUTC']).agg({\n",
    "    'TransactionAmount': 'sum',  # Total amount spent per account per day.\n",
    "    'TransactionType': 'count'   # Number of transactions per account per day.\n",
    "}).reset_index()\n",
    "\n"
   ]
  },
  {
   "cell_type": "code",
   "execution_count": null,
   "metadata": {},
   "outputs": [
    {
     "ename": "TypeError",
     "evalue": "Invalid object type at position 0",
     "output_type": "error",
     "traceback": [
      "\u001b[1;31m---------------------------------------------------------------------------\u001b[0m",
      "\u001b[1;31mTypeError\u001b[0m                                 Traceback (most recent call last)",
      "File \u001b[1;32mlib.pyx:2391\u001b[0m, in \u001b[0;36mpandas._libs.lib.maybe_convert_numeric\u001b[1;34m()\u001b[0m\n",
      "\u001b[1;31mTypeError\u001b[0m: Invalid object type",
      "\nDuring handling of the above exception, another exception occurred:\n",
      "\u001b[1;31mTypeError\u001b[0m                                 Traceback (most recent call last)",
      "Cell \u001b[1;32mIn[28], line 2\u001b[0m\n\u001b[0;32m      1\u001b[0m c1 \u001b[38;5;241m=\u001b[39m daily_activity[daily_activity\u001b[38;5;241m.\u001b[39mAccountIdentifier \u001b[38;5;241m==\u001b[39m \u001b[38;5;124m\"\u001b[39m\u001b[38;5;124mcustomer1\u001b[39m\u001b[38;5;124m\"\u001b[39m][\u001b[38;5;241m0\u001b[39m:\u001b[38;5;241m20\u001b[39m]\n\u001b[1;32m----> 2\u001b[0m \u001b[43msns\u001b[49m\u001b[38;5;241;43m.\u001b[39;49m\u001b[43mlineplot\u001b[49m\u001b[43m(\u001b[49m\u001b[43mc1\u001b[49m\u001b[43m,\u001b[49m\u001b[43m \u001b[49m\u001b[43mx\u001b[49m\u001b[38;5;241;43m=\u001b[39;49m\u001b[38;5;124;43m\"\u001b[39;49m\u001b[38;5;124;43mReqTimeUTC\u001b[39;49m\u001b[38;5;124;43m\"\u001b[39;49m\u001b[43m,\u001b[49m\u001b[43m \u001b[49m\u001b[43my\u001b[49m\u001b[38;5;241;43m=\u001b[39;49m\u001b[38;5;124;43m\"\u001b[39;49m\u001b[38;5;124;43mTransactionAmount\u001b[39;49m\u001b[38;5;124;43m\"\u001b[39;49m\u001b[43m \u001b[49m\u001b[43m)\u001b[49m\n",
      "File \u001b[1;32m~\\AppData\\Roaming\\Python\\Python312\\site-packages\\seaborn\\relational.py:507\u001b[0m, in \u001b[0;36mlineplot\u001b[1;34m(data, x, y, hue, size, style, units, palette, hue_order, hue_norm, sizes, size_order, size_norm, dashes, markers, style_order, estimator, errorbar, n_boot, seed, orient, sort, err_style, err_kws, legend, ci, ax, **kwargs)\u001b[0m\n\u001b[0;32m    504\u001b[0m color \u001b[38;5;241m=\u001b[39m kwargs\u001b[38;5;241m.\u001b[39mpop(\u001b[38;5;124m\"\u001b[39m\u001b[38;5;124mcolor\u001b[39m\u001b[38;5;124m\"\u001b[39m, kwargs\u001b[38;5;241m.\u001b[39mpop(\u001b[38;5;124m\"\u001b[39m\u001b[38;5;124mc\u001b[39m\u001b[38;5;124m\"\u001b[39m, \u001b[38;5;28;01mNone\u001b[39;00m))\n\u001b[0;32m    505\u001b[0m kwargs[\u001b[38;5;124m\"\u001b[39m\u001b[38;5;124mcolor\u001b[39m\u001b[38;5;124m\"\u001b[39m] \u001b[38;5;241m=\u001b[39m _default_color(ax\u001b[38;5;241m.\u001b[39mplot, hue, color, kwargs)\n\u001b[1;32m--> 507\u001b[0m \u001b[43mp\u001b[49m\u001b[38;5;241;43m.\u001b[39;49m\u001b[43mplot\u001b[49m\u001b[43m(\u001b[49m\u001b[43max\u001b[49m\u001b[43m,\u001b[49m\u001b[43m \u001b[49m\u001b[43mkwargs\u001b[49m\u001b[43m)\u001b[49m\n\u001b[0;32m    508\u001b[0m \u001b[38;5;28;01mreturn\u001b[39;00m ax\n",
      "File \u001b[1;32m~\\AppData\\Roaming\\Python\\Python312\\site-packages\\seaborn\\relational.py:274\u001b[0m, in \u001b[0;36m_LinePlotter.plot\u001b[1;34m(self, ax, kws)\u001b[0m\n\u001b[0;32m    266\u001b[0m \u001b[38;5;66;03m# TODO How to handle NA? We don't want NA to propagate through to the\u001b[39;00m\n\u001b[0;32m    267\u001b[0m \u001b[38;5;66;03m# estimate/CI when some values are present, but we would also like\u001b[39;00m\n\u001b[0;32m    268\u001b[0m \u001b[38;5;66;03m# matplotlib to show \"gaps\" in the line when all values are missing.\u001b[39;00m\n\u001b[1;32m   (...)\u001b[0m\n\u001b[0;32m    271\u001b[0m \n\u001b[0;32m    272\u001b[0m \u001b[38;5;66;03m# Loop over the semantic subsets and add to the plot\u001b[39;00m\n\u001b[0;32m    273\u001b[0m grouping_vars \u001b[38;5;241m=\u001b[39m \u001b[38;5;124m\"\u001b[39m\u001b[38;5;124mhue\u001b[39m\u001b[38;5;124m\"\u001b[39m, \u001b[38;5;124m\"\u001b[39m\u001b[38;5;124msize\u001b[39m\u001b[38;5;124m\"\u001b[39m, \u001b[38;5;124m\"\u001b[39m\u001b[38;5;124mstyle\u001b[39m\u001b[38;5;124m\"\u001b[39m\n\u001b[1;32m--> 274\u001b[0m \u001b[43m\u001b[49m\u001b[38;5;28;43;01mfor\u001b[39;49;00m\u001b[43m \u001b[49m\u001b[43msub_vars\u001b[49m\u001b[43m,\u001b[49m\u001b[43m \u001b[49m\u001b[43msub_data\u001b[49m\u001b[43m \u001b[49m\u001b[38;5;129;43;01min\u001b[39;49;00m\u001b[43m \u001b[49m\u001b[38;5;28;43mself\u001b[39;49m\u001b[38;5;241;43m.\u001b[39;49m\u001b[43miter_data\u001b[49m\u001b[43m(\u001b[49m\u001b[43mgrouping_vars\u001b[49m\u001b[43m,\u001b[49m\u001b[43m \u001b[49m\u001b[43mfrom_comp_data\u001b[49m\u001b[38;5;241;43m=\u001b[39;49m\u001b[38;5;28;43;01mTrue\u001b[39;49;00m\u001b[43m)\u001b[49m\u001b[43m:\u001b[49m\n\u001b[0;32m    276\u001b[0m \u001b[43m    \u001b[49m\u001b[38;5;28;43;01mif\u001b[39;49;00m\u001b[43m \u001b[49m\u001b[38;5;28;43mself\u001b[39;49m\u001b[38;5;241;43m.\u001b[39;49m\u001b[43msort\u001b[49m\u001b[43m:\u001b[49m\n\u001b[0;32m    277\u001b[0m \u001b[43m        \u001b[49m\u001b[43msort_vars\u001b[49m\u001b[43m \u001b[49m\u001b[38;5;241;43m=\u001b[39;49m\u001b[43m \u001b[49m\u001b[43m[\u001b[49m\u001b[38;5;124;43m\"\u001b[39;49m\u001b[38;5;124;43munits\u001b[39;49m\u001b[38;5;124;43m\"\u001b[39;49m\u001b[43m,\u001b[49m\u001b[43m \u001b[49m\u001b[43morient\u001b[49m\u001b[43m,\u001b[49m\u001b[43m \u001b[49m\u001b[43mother\u001b[49m\u001b[43m]\u001b[49m\n",
      "File \u001b[1;32m~\\AppData\\Roaming\\Python\\Python312\\site-packages\\seaborn\\_base.py:902\u001b[0m, in \u001b[0;36mVectorPlotter.iter_data\u001b[1;34m(self, grouping_vars, reverse, from_comp_data, by_facet, allow_empty, dropna)\u001b[0m\n\u001b[0;32m    899\u001b[0m grouping_vars \u001b[38;5;241m=\u001b[39m [var \u001b[38;5;28;01mfor\u001b[39;00m var \u001b[38;5;129;01min\u001b[39;00m grouping_vars \u001b[38;5;28;01mif\u001b[39;00m var \u001b[38;5;129;01min\u001b[39;00m \u001b[38;5;28mself\u001b[39m\u001b[38;5;241m.\u001b[39mvariables]\n\u001b[0;32m    901\u001b[0m \u001b[38;5;28;01mif\u001b[39;00m from_comp_data:\n\u001b[1;32m--> 902\u001b[0m     data \u001b[38;5;241m=\u001b[39m \u001b[38;5;28;43mself\u001b[39;49m\u001b[38;5;241;43m.\u001b[39;49m\u001b[43mcomp_data\u001b[49m\n\u001b[0;32m    903\u001b[0m \u001b[38;5;28;01melse\u001b[39;00m:\n\u001b[0;32m    904\u001b[0m     data \u001b[38;5;241m=\u001b[39m \u001b[38;5;28mself\u001b[39m\u001b[38;5;241m.\u001b[39mplot_data\n",
      "File \u001b[1;32m~\\AppData\\Roaming\\Python\\Python312\\site-packages\\seaborn\\_base.py:999\u001b[0m, in \u001b[0;36mVectorPlotter.comp_data\u001b[1;34m(self)\u001b[0m\n\u001b[0;32m    994\u001b[0m \u001b[38;5;28;01mif\u001b[39;00m var \u001b[38;5;129;01min\u001b[39;00m \u001b[38;5;28mself\u001b[39m\u001b[38;5;241m.\u001b[39mvar_levels:\n\u001b[0;32m    995\u001b[0m     \u001b[38;5;66;03m# TODO this should happen in some centralized location\u001b[39;00m\n\u001b[0;32m    996\u001b[0m     \u001b[38;5;66;03m# it is similar to GH2419, but more complicated because\u001b[39;00m\n\u001b[0;32m    997\u001b[0m     \u001b[38;5;66;03m# supporting `order` in categorical plots is tricky\u001b[39;00m\n\u001b[0;32m    998\u001b[0m     orig \u001b[38;5;241m=\u001b[39m orig[orig\u001b[38;5;241m.\u001b[39misin(\u001b[38;5;28mself\u001b[39m\u001b[38;5;241m.\u001b[39mvar_levels[var])]\n\u001b[1;32m--> 999\u001b[0m comp \u001b[38;5;241m=\u001b[39m \u001b[43mpd\u001b[49m\u001b[38;5;241;43m.\u001b[39;49m\u001b[43mto_numeric\u001b[49m\u001b[43m(\u001b[49m\u001b[43mconverter\u001b[49m\u001b[38;5;241;43m.\u001b[39;49m\u001b[43mconvert_units\u001b[49m\u001b[43m(\u001b[49m\u001b[43morig\u001b[49m\u001b[43m)\u001b[49m\u001b[43m)\u001b[49m\u001b[38;5;241m.\u001b[39mastype(\u001b[38;5;28mfloat\u001b[39m)\n\u001b[0;32m   1000\u001b[0m transform \u001b[38;5;241m=\u001b[39m converter\u001b[38;5;241m.\u001b[39mget_transform()\u001b[38;5;241m.\u001b[39mtransform\n\u001b[0;32m   1001\u001b[0m parts\u001b[38;5;241m.\u001b[39mappend(pd\u001b[38;5;241m.\u001b[39mSeries(transform(comp), orig\u001b[38;5;241m.\u001b[39mindex, name\u001b[38;5;241m=\u001b[39morig\u001b[38;5;241m.\u001b[39mname))\n",
      "File \u001b[1;32mc:\\Python312\\Lib\\site-packages\\pandas\\core\\tools\\numeric.py:232\u001b[0m, in \u001b[0;36mto_numeric\u001b[1;34m(arg, errors, downcast, dtype_backend)\u001b[0m\n\u001b[0;32m    230\u001b[0m coerce_numeric \u001b[38;5;241m=\u001b[39m errors \u001b[38;5;129;01mnot\u001b[39;00m \u001b[38;5;129;01min\u001b[39;00m (\u001b[38;5;124m\"\u001b[39m\u001b[38;5;124mignore\u001b[39m\u001b[38;5;124m\"\u001b[39m, \u001b[38;5;124m\"\u001b[39m\u001b[38;5;124mraise\u001b[39m\u001b[38;5;124m\"\u001b[39m)\n\u001b[0;32m    231\u001b[0m \u001b[38;5;28;01mtry\u001b[39;00m:\n\u001b[1;32m--> 232\u001b[0m     values, new_mask \u001b[38;5;241m=\u001b[39m \u001b[43mlib\u001b[49m\u001b[38;5;241;43m.\u001b[39;49m\u001b[43mmaybe_convert_numeric\u001b[49m\u001b[43m(\u001b[49m\u001b[43m  \u001b[49m\u001b[38;5;66;43;03m# type: ignore[call-overload]\u001b[39;49;00m\n\u001b[0;32m    233\u001b[0m \u001b[43m        \u001b[49m\u001b[43mvalues\u001b[49m\u001b[43m,\u001b[49m\n\u001b[0;32m    234\u001b[0m \u001b[43m        \u001b[49m\u001b[38;5;28;43mset\u001b[39;49m\u001b[43m(\u001b[49m\u001b[43m)\u001b[49m\u001b[43m,\u001b[49m\n\u001b[0;32m    235\u001b[0m \u001b[43m        \u001b[49m\u001b[43mcoerce_numeric\u001b[49m\u001b[38;5;241;43m=\u001b[39;49m\u001b[43mcoerce_numeric\u001b[49m\u001b[43m,\u001b[49m\n\u001b[0;32m    236\u001b[0m \u001b[43m        \u001b[49m\u001b[43mconvert_to_masked_nullable\u001b[49m\u001b[38;5;241;43m=\u001b[39;49m\u001b[43mdtype_backend\u001b[49m\u001b[43m \u001b[49m\u001b[38;5;129;43;01mis\u001b[39;49;00m\u001b[43m \u001b[49m\u001b[38;5;129;43;01mnot\u001b[39;49;00m\u001b[43m \u001b[49m\u001b[43mlib\u001b[49m\u001b[38;5;241;43m.\u001b[39;49m\u001b[43mno_default\u001b[49m\n\u001b[0;32m    237\u001b[0m \u001b[43m        \u001b[49m\u001b[38;5;129;43;01mor\u001b[39;49;00m\u001b[43m \u001b[49m\u001b[38;5;28;43misinstance\u001b[39;49m\u001b[43m(\u001b[49m\u001b[43mvalues_dtype\u001b[49m\u001b[43m,\u001b[49m\u001b[43m \u001b[49m\u001b[43mStringDtype\u001b[49m\u001b[43m)\u001b[49m\n\u001b[0;32m    238\u001b[0m \u001b[43m        \u001b[49m\u001b[38;5;129;43;01mand\u001b[39;49;00m\u001b[43m \u001b[49m\u001b[38;5;129;43;01mnot\u001b[39;49;00m\u001b[43m \u001b[49m\u001b[43mvalues_dtype\u001b[49m\u001b[38;5;241;43m.\u001b[39;49m\u001b[43mstorage\u001b[49m\u001b[43m \u001b[49m\u001b[38;5;241;43m==\u001b[39;49m\u001b[43m \u001b[49m\u001b[38;5;124;43m\"\u001b[39;49m\u001b[38;5;124;43mpyarrow_numpy\u001b[39;49m\u001b[38;5;124;43m\"\u001b[39;49m\u001b[43m,\u001b[49m\n\u001b[0;32m    239\u001b[0m \u001b[43m    \u001b[49m\u001b[43m)\u001b[49m\n\u001b[0;32m    240\u001b[0m \u001b[38;5;28;01mexcept\u001b[39;00m (\u001b[38;5;167;01mValueError\u001b[39;00m, \u001b[38;5;167;01mTypeError\u001b[39;00m):\n\u001b[0;32m    241\u001b[0m     \u001b[38;5;28;01mif\u001b[39;00m errors \u001b[38;5;241m==\u001b[39m \u001b[38;5;124m\"\u001b[39m\u001b[38;5;124mraise\u001b[39m\u001b[38;5;124m\"\u001b[39m:\n",
      "File \u001b[1;32mlib.pyx:2433\u001b[0m, in \u001b[0;36mpandas._libs.lib.maybe_convert_numeric\u001b[1;34m()\u001b[0m\n",
      "\u001b[1;31mTypeError\u001b[0m: Invalid object type at position 0"
     ]
    },
    {
     "data": {
      "image/png": "[encoded data removed]",
      "text/plain": [
       "<Figure size 640x480 with 1 Axes>"
      ]
     },
     "metadata": {},
     "output_type": "display_data"
    }
   ],
   "source": [
    "# Filter the dataset for a specific customer (\"customer1\") to analyze their transaction trends.\n",
    "# - Select only the first 20 records for visualization.\n",
    "\n",
    "c1 = daily_activity[daily_activity.AccountIdentifier == \"customer1\"][0:20]\n",
    "\n",
    "# Plot a line chart showing 'TransactionAmount' over time for \"customer1\".\n",
    "# - X-axis: 'ReqTimeUTC' (date of transaction).\n",
    "# - Y-axis: 'TransactionAmount' (total amount spent per day).\n",
    "\n",
    "sns.lineplot(c1, x=\"ReqTimeUTC\", y=\"TransactionAmount\" )"
   ]
  },
  {
   "cell_type": "code",
   "execution_count": null,
   "metadata": {},
   "outputs": [
    {
     "data": {
      "text/html": [
       "<div>\n",
       "<style scoped>\n",
       "    .dataframe tbody tr th:only-of-type {\n",
       "        vertical-align: middle;\n",
       "    }\n",
       "\n",
       "    .dataframe tbody tr th {\n",
       "        vertical-align: top;\n",
       "    }\n",
       "\n",
       "    .dataframe thead th {\n",
       "        text-align: right;\n",
       "    }\n",
       "</style>\n",
       "<table border=\"1\" class=\"dataframe\">\n",
       "  <thead>\n",
       "    <tr style=\"text-align: right;\">\n",
       "      <th></th>\n",
       "      <th>ReqTimeUTC</th>\n",
       "      <th>AccountIdentifier</th>\n",
       "      <th>TransactionAmount</th>\n",
       "      <th>TransactionType</th>\n",
       "    </tr>\n",
       "  </thead>\n",
       "  <tbody>\n",
       "    <tr>\n",
       "      <th>0</th>\n",
       "      <td>2019-03-01</td>\n",
       "      <td>customer1</td>\n",
       "      <td>0.0</td>\n",
       "      <td>0</td>\n",
       "    </tr>\n",
       "    <tr>\n",
       "      <th>1</th>\n",
       "      <td>2019-03-02</td>\n",
       "      <td>customer1</td>\n",
       "      <td>0.0</td>\n",
       "      <td>0</td>\n",
       "    </tr>\n",
       "    <tr>\n",
       "      <th>2</th>\n",
       "      <td>2019-03-03</td>\n",
       "      <td>customer1</td>\n",
       "      <td>0.0</td>\n",
       "      <td>0</td>\n",
       "    </tr>\n",
       "    <tr>\n",
       "      <th>3</th>\n",
       "      <td>2019-03-04</td>\n",
       "      <td>customer1</td>\n",
       "      <td>0.0</td>\n",
       "      <td>0</td>\n",
       "    </tr>\n",
       "    <tr>\n",
       "      <th>4</th>\n",
       "      <td>2019-03-05</td>\n",
       "      <td>customer1</td>\n",
       "      <td>0.0</td>\n",
       "      <td>0</td>\n",
       "    </tr>\n",
       "    <tr>\n",
       "      <th>...</th>\n",
       "      <td>...</td>\n",
       "      <td>...</td>\n",
       "      <td>...</td>\n",
       "      <td>...</td>\n",
       "    </tr>\n",
       "    <tr>\n",
       "      <th>182</th>\n",
       "      <td>2019-09-12</td>\n",
       "      <td>customer996</td>\n",
       "      <td>0.0</td>\n",
       "      <td>0</td>\n",
       "    </tr>\n",
       "    <tr>\n",
       "      <th>183</th>\n",
       "      <td>2019-09-13</td>\n",
       "      <td>customer996</td>\n",
       "      <td>0.0</td>\n",
       "      <td>0</td>\n",
       "    </tr>\n",
       "    <tr>\n",
       "      <th>0</th>\n",
       "      <td>2019-09-22</td>\n",
       "      <td>customer997</td>\n",
       "      <td>0.0</td>\n",
       "      <td>0</td>\n",
       "    </tr>\n",
       "    <tr>\n",
       "      <th>0</th>\n",
       "      <td>2019-11-09</td>\n",
       "      <td>customer998</td>\n",
       "      <td>0.0</td>\n",
       "      <td>0</td>\n",
       "    </tr>\n",
       "    <tr>\n",
       "      <th>0</th>\n",
       "      <td>2019-03-20</td>\n",
       "      <td>customer999</td>\n",
       "      <td>0.0</td>\n",
       "      <td>0</td>\n",
       "    </tr>\n",
       "  </tbody>\n",
       "</table>\n",
       "<p>164656 rows × 4 columns</p>\n",
       "</div>"
      ],
      "text/plain": [
       "    ReqTimeUTC AccountIdentifier  TransactionAmount  TransactionType\n",
       "0   2019-03-01         customer1                0.0                0\n",
       "1   2019-03-02         customer1                0.0                0\n",
       "2   2019-03-03         customer1                0.0                0\n",
       "3   2019-03-04         customer1                0.0                0\n",
       "4   2019-03-05         customer1                0.0                0\n",
       "..         ...               ...                ...              ...\n",
       "182 2019-09-12       customer996                0.0                0\n",
       "183 2019-09-13       customer996                0.0                0\n",
       "0   2019-09-22       customer997                0.0                0\n",
       "0   2019-11-09       customer998                0.0                0\n",
       "0   2019-03-20       customer999                0.0                0\n",
       "\n",
       "[164656 rows x 4 columns]"
      ]
     },
     "execution_count": 127,
     "metadata": {},
     "output_type": "execute_result"
    }
   ],
   "source": [
    "# Initialize an empty DataFrame to store the results for all customers.\n",
    "full_customer_df = pd.DataFrame()\n",
    "\n",
    "# Iterate over each unique customer in the dataset.\n",
    "for customer_id in daily_activity.AccountIdentifier.unique():\n",
    "\n",
    "    # Filter data for the current customer.\n",
    "    customer_df = daily_activity[daily_activity.AccountIdentifier == customer_id]\n",
    "    \n",
    "    # Generate a complete date range from the earliest to the latest transaction for the customer.\n",
    "    full_range = pd.date_range(customer_df.ReqTimeUTC.min().to_timestamp(), customer_df.ReqTimeUTC.max().to_timestamp(), freq=\"D\" )\n",
    "    \n",
    "    # Set 'ReqTimeUTC' as the index for easier reindexing.\n",
    "    customer_df = customer_df.set_index(keys = \"ReqTimeUTC\" )\n",
    "    \n",
    "    # Reindex to ensure all dates in 'full_range' exist, filling missing values with 0.\n",
    "    customer_df = customer_df.reindex(list(full_range), fill_value=0)\n",
    " \n",
    "\n",
    "   #Assign the 'AccountIdentifier' back to the newly created DataFrame.\n",
    "    customer_df.AccountIdentifier = [customer_id]*len(customer_df)\n",
    "\n",
    "     # Reset the index to turn the date index back into a column.\n",
    "    customer_df = customer_df.reset_index()\n",
    "\n",
    "    # Append the processed customer data to the final DataFrame.\n",
    "    full_customer_df = pd.concat([full_customer_df, customer_df])\n",
    "\n",
    "# Display the final DataFrame containing all customers with complete date ranges.\n",
    "full_customer_df\n",
    "\n"
   ]
  },
  {
   "cell_type": "code",
   "execution_count": null,
   "metadata": {},
   "outputs": [
    {
     "data": {
      "text/html": [
       "<div>\n",
       "<style scoped>\n",
       "    .dataframe tbody tr th:only-of-type {\n",
       "        vertical-align: middle;\n",
       "    }\n",
       "\n",
       "    .dataframe tbody tr th {\n",
       "        vertical-align: top;\n",
       "    }\n",
       "\n",
       "    .dataframe thead th {\n",
       "        text-align: right;\n",
       "    }\n",
       "</style>\n",
       "<table border=\"1\" class=\"dataframe\">\n",
       "  <thead>\n",
       "    <tr style=\"text-align: right;\">\n",
       "      <th></th>\n",
       "      <th>Month_x</th>\n",
       "      <th>Month_y</th>\n",
       "      <th>AccountIdentifier</th>\n",
       "    </tr>\n",
       "  </thead>\n",
       "  <tbody>\n",
       "    <tr>\n",
       "      <th>0</th>\n",
       "      <td>2019-03</td>\n",
       "      <td>2019-03</td>\n",
       "      <td>276</td>\n",
       "    </tr>\n",
       "    <tr>\n",
       "      <th>1</th>\n",
       "      <td>2019-03</td>\n",
       "      <td>2019-04</td>\n",
       "      <td>58</td>\n",
       "    </tr>\n",
       "    <tr>\n",
       "      <th>2</th>\n",
       "      <td>2019-03</td>\n",
       "      <td>2019-05</td>\n",
       "      <td>49</td>\n",
       "    </tr>\n",
       "    <tr>\n",
       "      <th>3</th>\n",
       "      <td>2019-03</td>\n",
       "      <td>2019-06</td>\n",
       "      <td>33</td>\n",
       "    </tr>\n",
       "    <tr>\n",
       "      <th>4</th>\n",
       "      <td>2019-03</td>\n",
       "      <td>2019-07</td>\n",
       "      <td>27</td>\n",
       "    </tr>\n",
       "    <tr>\n",
       "      <th>...</th>\n",
       "      <td>...</td>\n",
       "      <td>...</td>\n",
       "      <td>...</td>\n",
       "    </tr>\n",
       "    <tr>\n",
       "      <th>73</th>\n",
       "      <td>2019-12</td>\n",
       "      <td>2020-01</td>\n",
       "      <td>17</td>\n",
       "    </tr>\n",
       "    <tr>\n",
       "      <th>74</th>\n",
       "      <td>2019-12</td>\n",
       "      <td>2020-02</td>\n",
       "      <td>30</td>\n",
       "    </tr>\n",
       "    <tr>\n",
       "      <th>75</th>\n",
       "      <td>2020-01</td>\n",
       "      <td>2020-01</td>\n",
       "      <td>134</td>\n",
       "    </tr>\n",
       "    <tr>\n",
       "      <th>76</th>\n",
       "      <td>2020-01</td>\n",
       "      <td>2020-02</td>\n",
       "      <td>38</td>\n",
       "    </tr>\n",
       "    <tr>\n",
       "      <th>77</th>\n",
       "      <td>2020-02</td>\n",
       "      <td>2020-02</td>\n",
       "      <td>123</td>\n",
       "    </tr>\n",
       "  </tbody>\n",
       "</table>\n",
       "<p>78 rows × 3 columns</p>\n",
       "</div>"
      ],
      "text/plain": [
       "    Month_x  Month_y  AccountIdentifier\n",
       "0   2019-03  2019-03                276\n",
       "1   2019-03  2019-04                 58\n",
       "2   2019-03  2019-05                 49\n",
       "3   2019-03  2019-06                 33\n",
       "4   2019-03  2019-07                 27\n",
       "..      ...      ...                ...\n",
       "73  2019-12  2020-01                 17\n",
       "74  2019-12  2020-02                 30\n",
       "75  2020-01  2020-01                134\n",
       "76  2020-01  2020-02                 38\n",
       "77  2020-02  2020-02                123\n",
       "\n",
       "[78 rows x 3 columns]"
      ]
     },
     "execution_count": 132,
     "metadata": {},
     "output_type": "execute_result"
    }
   ],
   "source": [
    "# Extract the month from 'ReqTimeUTC' and store it in a new column.\n",
    "# - Converts the daily period data to a monthly period for easier aggregation.\n",
    "\n",
    "full_customer_df[\"Month\"] = full_customer_df.ReqTimeUTC.dt.to_period(\"M\")\n",
    "\n",
    "# Group data by 'Month' and 'AccountIdentifier' to count occurrences.\n",
    "# - This helps track the number of active customers per month.\n",
    "\n",
    "customer_month = full_customer_df.groupby([\"Month\", \"AccountIdentifier\"]).count().reset_index().iloc[:,:2]\n",
    "\n",
    "# Identify the first (start) and last (end) month of activity for each customer.\n",
    "# - 'min()' gives the earliest month of activity.\n",
    "# - 'max()' gives the latest month of activity.\n",
    "\n",
    "start_ = customer_month.groupby(\"AccountIdentifier\").min().reset_index()\n",
    "end_ = customer_month.groupby(\"AccountIdentifier\").max().reset_index()\n",
    "\n",
    "# Merge the start and end months into a single DataFrame for each customer.\n",
    "start_end_df = pd.merge(start_, end_, on = \"AccountIdentifier\")\n",
    "\n",
    "# Count how many customers started in one month and ended in another.\n",
    "# - Groups by start ('Month_x') and end ('Month_y') to find patterns in customer activity duration.\n",
    "\n",
    "source_target_value = start_end_df.groupby([\"Month_x\", \"Month_y\"]).count().reset_index()\n",
    "\n"
   ]
  },
  {
   "cell_type": "code",
   "execution_count": null,
   "metadata": {},
   "outputs": [
    {
     "data": {
      "text/plain": [
       "array([ 0,  1,  2,  3,  4,  5,  6,  7,  8,  9, 10, 11])"
      ]
     },
     "execution_count": 134,
     "metadata": {},
     "output_type": "execute_result"
    }
   ],
   "source": [
    "# Initialize a LabelEncoder instance\n",
    "le = LabelEncoder()\n",
    "\n",
    "# Fit and transform the unique values in 'Month_x' to numerical labels.\n",
    "# - This assigns a unique numeric code to each unique month.\n",
    "# - Useful for converting categorical time periods into numeric form for analysis.\n",
    "\n",
    "le.fit_transform(source_target_value.Month_x.unique())"
   ]
  },
  {
   "cell_type": "code",
   "execution_count": null,
   "metadata": {},
   "outputs": [
    {
     "data": {
      "application/vnd.plotly.v1+json": {
       "config": {
        "plotlyServerURL": "https://plot.ly"
       },
       "data": [
        {
         "link": {
          "source": [
           0,
           0,
           0,
           0,
           0,
           0,
           0,
           0,
           0,
           0,
           0,
           1,
           1,
           1,
           1,
           1,
           1,
           1,
           1,
           1,
           1,
           2,
           2,
           2,
           2,
           2,
           2,
           2,
           2,
           2,
           3,
           3,
           3,
           3,
           3,
           3,
           3,
           3,
           4,
           4,
           4,
           4,
           4,
           4,
           4,
           5,
           5,
           5,
           5,
           5,
           5,
           6,
           6,
           6,
           6,
           6,
           7,
           7,
           7,
           7,
           8,
           8,
           8,
           9,
           9,
           10
          ],
          "target": [
           1,
           2,
           3,
           4,
           5,
           6,
           7,
           8,
           9,
           10,
           11,
           2,
           3,
           4,
           5,
           6,
           7,
           8,
           9,
           10,
           11,
           3,
           4,
           5,
           6,
           7,
           8,
           9,
           10,
           11,
           4,
           5,
           6,
           7,
           8,
           9,
           10,
           11,
           5,
           6,
           7,
           8,
           9,
           10,
           11,
           6,
           7,
           8,
           9,
           10,
           11,
           7,
           8,
           9,
           10,
           11,
           8,
           9,
           10,
           11,
           9,
           10,
           11,
           10,
           11,
           11
          ],
          "value": [
           58,
           49,
           33,
           27,
           29,
           21,
           25,
           24,
           32,
           28,
           141,
           20,
           16,
           13,
           10,
           9,
           7,
           6,
           10,
           7,
           15,
           16,
           6,
           4,
           8,
           4,
           6,
           3,
           5,
           20,
           18,
           5,
           4,
           5,
           3,
           6,
           3,
           18,
           8,
           6,
           9,
           2,
           4,
           2,
           13,
           9,
           5,
           6,
           3,
           4,
           15,
           11,
           5,
           6,
           4,
           10,
           9,
           2,
           10,
           22,
           18,
           6,
           22,
           17,
           30,
           38
          ]
         },
         "node": {
          "color": "blue",
          "label": [
           "2020-01",
           "2019-06",
           "2019-04",
           "2019-03",
           "2019-09",
           "2019-11",
           "2019-10",
           "2019-08",
           "2019-05",
           "2020-02",
           "2019-12",
           "2019-07"
          ],
          "line": {
           "color": "black",
           "width": 2
          },
          "pad": 300,
          "thickness": 10
         },
         "type": "sankey"
        }
       ],
       "layout": {
        "font": {
         "size": 15
        },
        "template": {
         "data": {
          "bar": [
           {
            "error_x": {
             "color": "#2a3f5f"
            },
            "error_y": {
             "color": "#2a3f5f"
            },
            "marker": {
             "line": {
              "color": "#E5ECF6",
              "width": 0.5
             },
             "pattern": {
              "fillmode": "overlay",
              "size": 10,
              "solidity": 0.2
             }
            },
            "type": "bar"
           }
          ],
          "barpolar": [
           {
            "marker": {
             "line": {
              "color": "#E5ECF6",
              "width": 0.5
             },
             "pattern": {
              "fillmode": "overlay",
              "size": 10,
              "solidity": 0.2
             }
            },
            "type": "barpolar"
           }
          ],
          "carpet": [
           {
            "aaxis": {
             "endlinecolor": "#2a3f5f",
             "gridcolor": "white",
             "linecolor": "white",
             "minorgridcolor": "white",
             "startlinecolor": "#2a3f5f"
            },
            "baxis": {
             "endlinecolor": "#2a3f5f",
             "gridcolor": "white",
             "linecolor": "white",
             "minorgridcolor": "white",
             "startlinecolor": "#2a3f5f"
            },
            "type": "carpet"
           }
          ],
          "choropleth": [
           {
            "colorbar": {
             "outlinewidth": 0,
             "ticks": ""
            },
            "type": "choropleth"
           }
          ],
          "contour": [
           {
            "colorbar": {
             "outlinewidth": 0,
             "ticks": ""
            },
            "colorscale": [
             [
              0,
              "#0d0887"
             ],
             [
              0.1111111111111111,
              "#46039f"
             ],
             [
              0.2222222222222222,
              "#7201a8"
             ],
             [
              0.3333333333333333,
              "#9c179e"
             ],
             [
              0.4444444444444444,
              "#bd3786"
             ],
             [
              0.5555555555555556,
              "#d8576b"
             ],
             [
              0.6666666666666666,
              "#ed7953"
             ],
             [
              0.7777777777777778,
              "#fb9f3a"
             ],
             [
              0.8888888888888888,
              "#fdca26"
             ],
             [
              1,
              "#f0f921"
             ]
            ],
            "type": "contour"
           }
          ],
          "contourcarpet": [
           {
            "colorbar": {
             "outlinewidth": 0,
             "ticks": ""
            },
            "type": "contourcarpet"
           }
          ],
          "heatmap": [
           {
            "colorbar": {
             "outlinewidth": 0,
             "ticks": ""
            },
            "colorscale": [
             [
              0,
              "#0d0887"
             ],
             [
              0.1111111111111111,
              "#46039f"
             ],
             [
              0.2222222222222222,
              "#7201a8"
             ],
             [
              0.3333333333333333,
              "#9c179e"
             ],
             [
              0.4444444444444444,
              "#bd3786"
             ],
             [
              0.5555555555555556,
              "#d8576b"
             ],
             [
              0.6666666666666666,
              "#ed7953"
             ],
             [
              0.7777777777777778,
              "#fb9f3a"
             ],
             [
              0.8888888888888888,
              "#fdca26"
             ],
             [
              1,
              "#f0f921"
             ]
            ],
            "type": "heatmap"
           }
          ],
          "heatmapgl": [
           {
            "colorbar": {
             "outlinewidth": 0,
             "ticks": ""
            },
            "colorscale": [
             [
              0,
              "#0d0887"
             ],
             [
              0.1111111111111111,
              "#46039f"
             ],
             [
              0.2222222222222222,
              "#7201a8"
             ],
             [
              0.3333333333333333,
              "#9c179e"
             ],
             [
              0.4444444444444444,
              "#bd3786"
             ],
             [
              0.5555555555555556,
              "#d8576b"
             ],
             [
              0.6666666666666666,
              "#ed7953"
             ],
             [
              0.7777777777777778,
              "#fb9f3a"
             ],
             [
              0.8888888888888888,
              "#fdca26"
             ],
             [
              1,
              "#f0f921"
             ]
            ],
            "type": "heatmapgl"
           }
          ],
          "histogram": [
           {
            "marker": {
             "pattern": {
              "fillmode": "overlay",
              "size": 10,
              "solidity": 0.2
             }
            },
            "type": "histogram"
           }
          ],
          "histogram2d": [
           {
            "colorbar": {
             "outlinewidth": 0,
             "ticks": ""
            },
            "colorscale": [
             [
              0,
              "#0d0887"
             ],
             [
              0.1111111111111111,
              "#46039f"
             ],
             [
              0.2222222222222222,
              "#7201a8"
             ],
             [
              0.3333333333333333,
              "#9c179e"
             ],
             [
              0.4444444444444444,
              "#bd3786"
             ],
             [
              0.5555555555555556,
              "#d8576b"
             ],
             [
              0.6666666666666666,
              "#ed7953"
             ],
             [
              0.7777777777777778,
              "#fb9f3a"
             ],
             [
              0.8888888888888888,
              "#fdca26"
             ],
             [
              1,
              "#f0f921"
             ]
            ],
            "type": "histogram2d"
           }
          ],
          "histogram2dcontour": [
           {
            "colorbar": {
             "outlinewidth": 0,
             "ticks": ""
            },
            "colorscale": [
             [
              0,
              "#0d0887"
             ],
             [
              0.1111111111111111,
              "#46039f"
             ],
             [
              0.2222222222222222,
              "#7201a8"
             ],
             [
              0.3333333333333333,
              "#9c179e"
             ],
             [
              0.4444444444444444,
              "#bd3786"
             ],
             [
              0.5555555555555556,
              "#d8576b"
             ],
             [
              0.6666666666666666,
              "#ed7953"
             ],
             [
              0.7777777777777778,
              "#fb9f3a"
             ],
             [
              0.8888888888888888,
              "#fdca26"
             ],
             [
              1,
              "#f0f921"
             ]
            ],
            "type": "histogram2dcontour"
           }
          ],
          "mesh3d": [
           {
            "colorbar": {
             "outlinewidth": 0,
             "ticks": ""
            },
            "type": "mesh3d"
           }
          ],
          "parcoords": [
           {
            "line": {
             "colorbar": {
              "outlinewidth": 0,
              "ticks": ""
             }
            },
            "type": "parcoords"
           }
          ],
          "pie": [
           {
            "automargin": true,
            "type": "pie"
           }
          ],
          "scatter": [
           {
            "fillpattern": {
             "fillmode": "overlay",
             "size": 10,
             "solidity": 0.2
            },
            "type": "scatter"
           }
          ],
          "scatter3d": [
           {
            "line": {
             "colorbar": {
              "outlinewidth": 0,
              "ticks": ""
             }
            },
            "marker": {
             "colorbar": {
              "outlinewidth": 0,
              "ticks": ""
             }
            },
            "type": "scatter3d"
           }
          ],
          "scattercarpet": [
           {
            "marker": {
             "colorbar": {
              "outlinewidth": 0,
              "ticks": ""
             }
            },
            "type": "scattercarpet"
           }
          ],
          "scattergeo": [
           {
            "marker": {
             "colorbar": {
              "outlinewidth": 0,
              "ticks": ""
             }
            },
            "type": "scattergeo"
           }
          ],
          "scattergl": [
           {
            "marker": {
             "colorbar": {
              "outlinewidth": 0,
              "ticks": ""
             }
            },
            "type": "scattergl"
           }
          ],
          "scattermapbox": [
           {
            "marker": {
             "colorbar": {
              "outlinewidth": 0,
              "ticks": ""
             }
            },
            "type": "scattermapbox"
           }
          ],
          "scatterpolar": [
           {
            "marker": {
             "colorbar": {
              "outlinewidth": 0,
              "ticks": ""
             }
            },
            "type": "scatterpolar"
           }
          ],
          "scatterpolargl": [
           {
            "marker": {
             "colorbar": {
              "outlinewidth": 0,
              "ticks": ""
             }
            },
            "type": "scatterpolargl"
           }
          ],
          "scatterternary": [
           {
            "marker": {
             "colorbar": {
              "outlinewidth": 0,
              "ticks": ""
             }
            },
            "type": "scatterternary"
           }
          ],
          "surface": [
           {
            "colorbar": {
             "outlinewidth": 0,
             "ticks": ""
            },
            "colorscale": [
             [
              0,
              "#0d0887"
             ],
             [
              0.1111111111111111,
              "#46039f"
             ],
             [
              0.2222222222222222,
              "#7201a8"
             ],
             [
              0.3333333333333333,
              "#9c179e"
             ],
             [
              0.4444444444444444,
              "#bd3786"
             ],
             [
              0.5555555555555556,
              "#d8576b"
             ],
             [
              0.6666666666666666,
              "#ed7953"
             ],
             [
              0.7777777777777778,
              "#fb9f3a"
             ],
             [
              0.8888888888888888,
              "#fdca26"
             ],
             [
              1,
              "#f0f921"
             ]
            ],
            "type": "surface"
           }
          ],
          "table": [
           {
            "cells": {
             "fill": {
              "color": "#EBF0F8"
             },
             "line": {
              "color": "white"
             }
            },
            "header": {
             "fill": {
              "color": "#C8D4E3"
             },
             "line": {
              "color": "white"
             }
            },
            "type": "table"
           }
          ]
         },
         "layout": {
          "annotationdefaults": {
           "arrowcolor": "#2a3f5f",
           "arrowhead": 0,
           "arrowwidth": 1
          },
          "autotypenumbers": "strict",
          "coloraxis": {
           "colorbar": {
            "outlinewidth": 0,
            "ticks": ""
           }
          },
          "colorscale": {
           "diverging": [
            [
             0,
             "#8e0152"
            ],
            [
             0.1,
             "#c51b7d"
            ],
            [
             0.2,
             "#de77ae"
            ],
            [
             0.3,
             "#f1b6da"
            ],
            [
             0.4,
             "#fde0ef"
            ],
            [
             0.5,
             "#f7f7f7"
            ],
            [
             0.6,
             "#e6f5d0"
            ],
            [
             0.7,
             "#b8e186"
            ],
            [
             0.8,
             "#7fbc41"
            ],
            [
             0.9,
             "#4d9221"
            ],
            [
             1,
             "#276419"
            ]
           ],
           "sequential": [
            [
             0,
             "#0d0887"
            ],
            [
             0.1111111111111111,
             "#46039f"
            ],
            [
             0.2222222222222222,
             "#7201a8"
            ],
            [
             0.3333333333333333,
             "#9c179e"
            ],
            [
             0.4444444444444444,
             "#bd3786"
            ],
            [
             0.5555555555555556,
             "#d8576b"
            ],
            [
             0.6666666666666666,
             "#ed7953"
            ],
            [
             0.7777777777777778,
             "#fb9f3a"
            ],
            [
             0.8888888888888888,
             "#fdca26"
            ],
            [
             1,
             "#f0f921"
            ]
           ],
           "sequentialminus": [
            [
             0,
             "#0d0887"
            ],
            [
             0.1111111111111111,
             "#46039f"
            ],
            [
             0.2222222222222222,
             "#7201a8"
            ],
            [
             0.3333333333333333,
             "#9c179e"
            ],
            [
             0.4444444444444444,
             "#bd3786"
            ],
            [
             0.5555555555555556,
             "#d8576b"
            ],
            [
             0.6666666666666666,
             "#ed7953"
            ],
            [
             0.7777777777777778,
             "#fb9f3a"
            ],
            [
             0.8888888888888888,
             "#fdca26"
            ],
            [
             1,
             "#f0f921"
            ]
           ]
          },
          "colorway": [
           "#636efa",
           "#EF553B",
           "#00cc96",
           "#ab63fa",
           "#FFA15A",
           "#19d3f3",
           "#FF6692",
           "#B6E880",
           "#FF97FF",
           "#FECB52"
          ],
          "font": {
           "color": "#2a3f5f"
          },
          "geo": {
           "bgcolor": "white",
           "lakecolor": "white",
           "landcolor": "#E5ECF6",
           "showlakes": true,
           "showland": true,
           "subunitcolor": "white"
          },
          "hoverlabel": {
           "align": "left"
          },
          "hovermode": "closest",
          "mapbox": {
           "style": "light"
          },
          "paper_bgcolor": "white",
          "plot_bgcolor": "#E5ECF6",
          "polar": {
           "angularaxis": {
            "gridcolor": "white",
            "linecolor": "white",
            "ticks": ""
           },
           "bgcolor": "#E5ECF6",
           "radialaxis": {
            "gridcolor": "white",
            "linecolor": "white",
            "ticks": ""
           }
          },
          "scene": {
           "xaxis": {
            "backgroundcolor": "#E5ECF6",
            "gridcolor": "white",
            "gridwidth": 2,
            "linecolor": "white",
            "showbackground": true,
            "ticks": "",
            "zerolinecolor": "white"
           },
           "yaxis": {
            "backgroundcolor": "#E5ECF6",
            "gridcolor": "white",
            "gridwidth": 2,
            "linecolor": "white",
            "showbackground": true,
            "ticks": "",
            "zerolinecolor": "white"
           },
           "zaxis": {
            "backgroundcolor": "#E5ECF6",
            "gridcolor": "white",
            "gridwidth": 2,
            "linecolor": "white",
            "showbackground": true,
            "ticks": "",
            "zerolinecolor": "white"
           }
          },
          "shapedefaults": {
           "line": {
            "color": "#2a3f5f"
           }
          },
          "ternary": {
           "aaxis": {
            "gridcolor": "white",
            "linecolor": "white",
            "ticks": ""
           },
           "baxis": {
            "gridcolor": "white",
            "linecolor": "white",
            "ticks": ""
           },
           "bgcolor": "#E5ECF6",
           "caxis": {
            "gridcolor": "white",
            "linecolor": "white",
            "ticks": ""
           }
          },
          "title": {
           "x": 0.05
          },
          "xaxis": {
           "automargin": true,
           "gridcolor": "white",
           "linecolor": "white",
           "ticks": "",
           "title": {
            "standoff": 15
           },
           "zerolinecolor": "white",
           "zerolinewidth": 2
          },
          "yaxis": {
           "automargin": true,
           "gridcolor": "white",
           "linecolor": "white",
           "ticks": "",
           "title": {
            "standoff": 15
           },
           "zerolinecolor": "white",
           "zerolinewidth": 2
          }
         }
        },
        "title": {
         "text": "Basic Sankey Diagram"
        }
       }
      }
     },
     "metadata": {},
     "output_type": "display_data"
    }
   ],
   "source": [
    "from sklearn.preprocessing import LabelEncoder\n",
    "import plotly.graph_objects as go\n",
    "\n",
    "# Convert Period to string before encoding\n",
    "source_target_value['Month_x'] = source_target_value['Month_x'].astype(str)\n",
    "source_target_value['Month_y'] = source_target_value['Month_y'].astype(str)\n",
    "\n",
    "# Fit LabelEncoder\n",
    "le = LabelEncoder()\n",
    "all_months = list(set(source_target_value.Month_x.tolist() + source_target_value.Month_y.tolist()))\n",
    "le.fit(all_months)  \n",
    "\n",
    "# Encode source and target months\n",
    "source = le.transform(source_target_value.Month_x.tolist())\n",
    "target = le.transform(source_target_value.Month_y.tolist())\n",
    "\n",
    "# Create Sankey Diagram\n",
    "fig = go.Figure(data=[go.Sankey(\n",
    "    node=dict(\n",
    "        pad=300, # Reduced for better spacing\n",
    "        thickness=10, # Increased for better visibility\n",
    "        line=dict(width=2, color=\"black\"),\n",
    "        label=all_months,  # Display month labels\n",
    "        color=\"blue\"\n",
    "    ),\n",
    "    link=dict(\n",
    "        source=source,\n",
    "        target=target,\n",
    "        value=source_target_value.AccountIdentifier.tolist()  # Assuming it's numerical\n",
    "    )\n",
    ")])\n",
    "\n",
    "fig.update_layout(title_text=\"Basic Sankey Diagram\", font_size=15)\n",
    "fig.show()\n"
   ]
  },
  {
   "cell_type": "code",
   "execution_count": null,
   "metadata": {},
   "outputs": [],
   "source": [
    "# Filter records where 'Month_x' is equal to 'Month_y' (i.e., no transition between months)\n",
    "# These represent cases where the account remains in the same month category.\n",
    "\n",
    "fast_quiter = source_target_value[source_target_value.Month_x == source_target_value.Month_y]\n",
    "\n",
    "# Filter out records where 'Month_x' is NOT equal to 'Month_y' \n",
    "# This keeps only the records where there is a transition from one month to another.\n",
    "\n",
    "source_target_value = source_target_value[source_target_value.Month_x != source_target_value.Month_y]"
   ]
  },
  {
   "cell_type": "code",
   "execution_count": null,
   "metadata": {},
   "outputs": [
    {
     "data": {
      "text/html": [
       "<div>\n",
       "<style scoped>\n",
       "    .dataframe tbody tr th:only-of-type {\n",
       "        vertical-align: middle;\n",
       "    }\n",
       "\n",
       "    .dataframe tbody tr th {\n",
       "        vertical-align: top;\n",
       "    }\n",
       "\n",
       "    .dataframe thead th {\n",
       "        text-align: right;\n",
       "    }\n",
       "</style>\n",
       "<table border=\"1\" class=\"dataframe\">\n",
       "  <thead>\n",
       "    <tr style=\"text-align: right;\">\n",
       "      <th></th>\n",
       "      <th>Month</th>\n",
       "      <th>AccountIdentifier</th>\n",
       "    </tr>\n",
       "  </thead>\n",
       "  <tbody>\n",
       "    <tr>\n",
       "      <th>0</th>\n",
       "      <td>2019-03</td>\n",
       "      <td>743</td>\n",
       "    </tr>\n",
       "    <tr>\n",
       "      <th>1</th>\n",
       "      <td>2019-04</td>\n",
       "      <td>672</td>\n",
       "    </tr>\n",
       "    <tr>\n",
       "      <th>2</th>\n",
       "      <td>2019-05</td>\n",
       "      <td>699</td>\n",
       "    </tr>\n",
       "    <tr>\n",
       "      <th>3</th>\n",
       "      <td>2019-06</td>\n",
       "      <td>669</td>\n",
       "    </tr>\n",
       "    <tr>\n",
       "      <th>4</th>\n",
       "      <td>2019-07</td>\n",
       "      <td>660</td>\n",
       "    </tr>\n",
       "    <tr>\n",
       "      <th>5</th>\n",
       "      <td>2019-08</td>\n",
       "      <td>624</td>\n",
       "    </tr>\n",
       "    <tr>\n",
       "      <th>6</th>\n",
       "      <td>2019-09</td>\n",
       "      <td>594</td>\n",
       "    </tr>\n",
       "    <tr>\n",
       "      <th>7</th>\n",
       "      <td>2019-10</td>\n",
       "      <td>572</td>\n",
       "    </tr>\n",
       "    <tr>\n",
       "      <th>8</th>\n",
       "      <td>2019-11</td>\n",
       "      <td>555</td>\n",
       "    </tr>\n",
       "    <tr>\n",
       "      <th>9</th>\n",
       "      <td>2019-12</td>\n",
       "      <td>563</td>\n",
       "    </tr>\n",
       "    <tr>\n",
       "      <th>10</th>\n",
       "      <td>2020-01</td>\n",
       "      <td>564</td>\n",
       "    </tr>\n",
       "    <tr>\n",
       "      <th>11</th>\n",
       "      <td>2020-02</td>\n",
       "      <td>467</td>\n",
       "    </tr>\n",
       "  </tbody>\n",
       "</table>\n",
       "</div>"
      ],
      "text/plain": [
       "      Month  AccountIdentifier\n",
       "0   2019-03                743\n",
       "1   2019-04                672\n",
       "2   2019-05                699\n",
       "3   2019-06                669\n",
       "4   2019-07                660\n",
       "5   2019-08                624\n",
       "6   2019-09                594\n",
       "7   2019-10                572\n",
       "8   2019-11                555\n",
       "9   2019-12                563\n",
       "10  2020-01                564\n",
       "11  2020-02                467"
      ]
     },
     "execution_count": 169,
     "metadata": {},
     "output_type": "execute_result"
    }
   ],
   "source": [
    "# Group by the 'Month' column and count the number of customers in each month.\n",
    "# The `.count()` function counts the number of non-null values in each column.\n",
    "# `.reset_index()` ensures the grouped data is converted back into a DataFrame format.\n",
    "\n",
    "total_num_customer = customer_month.groupby(\"Month\").count().reset_index()\n",
    "\n",
    "# Display the result\n",
    "\n",
    "total_num_customer"
   ]
  },
  {
   "cell_type": "code",
   "execution_count": null,
   "metadata": {},
   "outputs": [
    {
     "data": {
      "text/html": [
       "<div>\n",
       "<style scoped>\n",
       "    .dataframe tbody tr th:only-of-type {\n",
       "        vertical-align: middle;\n",
       "    }\n",
       "\n",
       "    .dataframe tbody tr th {\n",
       "        vertical-align: top;\n",
       "    }\n",
       "\n",
       "    .dataframe thead th {\n",
       "        text-align: right;\n",
       "    }\n",
       "</style>\n",
       "<table border=\"1\" class=\"dataframe\">\n",
       "  <thead>\n",
       "    <tr style=\"text-align: right;\">\n",
       "      <th></th>\n",
       "      <th>Month_x</th>\n",
       "      <th>AccountIdentifier</th>\n",
       "    </tr>\n",
       "  </thead>\n",
       "  <tbody>\n",
       "    <tr>\n",
       "      <th>0</th>\n",
       "      <td>2019-03</td>\n",
       "      <td>276</td>\n",
       "    </tr>\n",
       "    <tr>\n",
       "      <th>12</th>\n",
       "      <td>2019-04</td>\n",
       "      <td>92</td>\n",
       "    </tr>\n",
       "    <tr>\n",
       "      <th>23</th>\n",
       "      <td>2019-05</td>\n",
       "      <td>105</td>\n",
       "    </tr>\n",
       "    <tr>\n",
       "      <th>33</th>\n",
       "      <td>2019-06</td>\n",
       "      <td>82</td>\n",
       "    </tr>\n",
       "    <tr>\n",
       "      <th>42</th>\n",
       "      <td>2019-07</td>\n",
       "      <td>94</td>\n",
       "    </tr>\n",
       "    <tr>\n",
       "      <th>50</th>\n",
       "      <td>2019-08</td>\n",
       "      <td>80</td>\n",
       "    </tr>\n",
       "    <tr>\n",
       "      <th>57</th>\n",
       "      <td>2019-09</td>\n",
       "      <td>70</td>\n",
       "    </tr>\n",
       "    <tr>\n",
       "      <th>63</th>\n",
       "      <td>2019-10</td>\n",
       "      <td>62</td>\n",
       "    </tr>\n",
       "    <tr>\n",
       "      <th>68</th>\n",
       "      <td>2019-11</td>\n",
       "      <td>65</td>\n",
       "    </tr>\n",
       "    <tr>\n",
       "      <th>72</th>\n",
       "      <td>2019-12</td>\n",
       "      <td>87</td>\n",
       "    </tr>\n",
       "    <tr>\n",
       "      <th>75</th>\n",
       "      <td>2020-01</td>\n",
       "      <td>134</td>\n",
       "    </tr>\n",
       "    <tr>\n",
       "      <th>77</th>\n",
       "      <td>2020-02</td>\n",
       "      <td>123</td>\n",
       "    </tr>\n",
       "  </tbody>\n",
       "</table>\n",
       "</div>"
      ],
      "text/plain": [
       "    Month_x  AccountIdentifier\n",
       "0   2019-03                276\n",
       "12  2019-04                 92\n",
       "23  2019-05                105\n",
       "33  2019-06                 82\n",
       "42  2019-07                 94\n",
       "50  2019-08                 80\n",
       "57  2019-09                 70\n",
       "63  2019-10                 62\n",
       "68  2019-11                 65\n",
       "72  2019-12                 87\n",
       "75  2020-01                134\n",
       "77  2020-02                123"
      ]
     },
     "execution_count": 159,
     "metadata": {},
     "output_type": "execute_result"
    }
   ],
   "source": [
    "# Select only the 'Month_x' and 'AccountIdentifier' columns from the fast_quiter DataFrame.\n",
    "# This creates a new DataFrame (fq_df) containing only relevant information.\n",
    "\n",
    "fq_df = fast_quiter[[\"Month_x\", \"AccountIdentifier\"]]\n",
    "\n",
    "# Display the resulting DataFrame\n",
    "fq_df"
   ]
  },
  {
   "cell_type": "code",
   "execution_count": null,
   "metadata": {},
   "outputs": [
    {
     "data": {
      "text/html": [
       "<div>\n",
       "<style scoped>\n",
       "    .dataframe tbody tr th:only-of-type {\n",
       "        vertical-align: middle;\n",
       "    }\n",
       "\n",
       "    .dataframe tbody tr th {\n",
       "        vertical-align: top;\n",
       "    }\n",
       "\n",
       "    .dataframe thead th {\n",
       "        text-align: right;\n",
       "    }\n",
       "</style>\n",
       "<table border=\"1\" class=\"dataframe\">\n",
       "  <thead>\n",
       "    <tr style=\"text-align: right;\">\n",
       "      <th></th>\n",
       "      <th>Month</th>\n",
       "      <th>Total</th>\n",
       "      <th>Quit</th>\n",
       "    </tr>\n",
       "  </thead>\n",
       "  <tbody>\n",
       "    <tr>\n",
       "      <th>0</th>\n",
       "      <td>2019-03</td>\n",
       "      <td>743</td>\n",
       "      <td>276</td>\n",
       "    </tr>\n",
       "    <tr>\n",
       "      <th>1</th>\n",
       "      <td>2019-04</td>\n",
       "      <td>672</td>\n",
       "      <td>92</td>\n",
       "    </tr>\n",
       "    <tr>\n",
       "      <th>2</th>\n",
       "      <td>2019-05</td>\n",
       "      <td>699</td>\n",
       "      <td>105</td>\n",
       "    </tr>\n",
       "    <tr>\n",
       "      <th>3</th>\n",
       "      <td>2019-06</td>\n",
       "      <td>669</td>\n",
       "      <td>82</td>\n",
       "    </tr>\n",
       "    <tr>\n",
       "      <th>4</th>\n",
       "      <td>2019-07</td>\n",
       "      <td>660</td>\n",
       "      <td>94</td>\n",
       "    </tr>\n",
       "    <tr>\n",
       "      <th>5</th>\n",
       "      <td>2019-08</td>\n",
       "      <td>624</td>\n",
       "      <td>80</td>\n",
       "    </tr>\n",
       "    <tr>\n",
       "      <th>6</th>\n",
       "      <td>2019-09</td>\n",
       "      <td>594</td>\n",
       "      <td>70</td>\n",
       "    </tr>\n",
       "    <tr>\n",
       "      <th>7</th>\n",
       "      <td>2019-10</td>\n",
       "      <td>572</td>\n",
       "      <td>62</td>\n",
       "    </tr>\n",
       "    <tr>\n",
       "      <th>8</th>\n",
       "      <td>2019-11</td>\n",
       "      <td>555</td>\n",
       "      <td>65</td>\n",
       "    </tr>\n",
       "    <tr>\n",
       "      <th>9</th>\n",
       "      <td>2019-12</td>\n",
       "      <td>563</td>\n",
       "      <td>87</td>\n",
       "    </tr>\n",
       "    <tr>\n",
       "      <th>10</th>\n",
       "      <td>2020-01</td>\n",
       "      <td>564</td>\n",
       "      <td>134</td>\n",
       "    </tr>\n",
       "    <tr>\n",
       "      <th>11</th>\n",
       "      <td>2020-02</td>\n",
       "      <td>467</td>\n",
       "      <td>123</td>\n",
       "    </tr>\n",
       "  </tbody>\n",
       "</table>\n",
       "</div>"
      ],
      "text/plain": [
       "      Month  Total  Quit\n",
       "0   2019-03    743   276\n",
       "1   2019-04    672    92\n",
       "2   2019-05    699   105\n",
       "3   2019-06    669    82\n",
       "4   2019-07    660    94\n",
       "5   2019-08    624    80\n",
       "6   2019-09    594    70\n",
       "7   2019-10    572    62\n",
       "8   2019-11    555    65\n",
       "9   2019-12    563    87\n",
       "10  2020-01    564   134\n",
       "11  2020-02    467   123"
      ]
     },
     "execution_count": 175,
     "metadata": {},
     "output_type": "execute_result"
    }
   ],
   "source": [
    "#pd.merge(total_num_customer, fq_df, right_on = \"Month_x\", left_on = \"Month\")\n",
    "\n",
    "# Convert Month_x (fq_df) to string\n",
    "fq_df[\"Month_x\"] = fq_df[\"Month_x\"].astype(str)\n",
    "\n",
    "# Convert Month (total_num_customer) to string\n",
    "total_num_customer[\"Month\"] = total_num_customer[\"Month\"].astype(str)\n",
    "\n",
    "# Merge after fixing data types\n",
    "merged_df = pd.merge(total_num_customer, fq_df, right_on=\"Month_x\", left_on=\"Month\", how=\"outer\")[[\"Month\", \"AccountIdentifier_x\", \"AccountIdentifier_y\"]]\n",
    "\n",
    "# Show merged DataFrame\n",
    "#print(merged_df.head())\n",
    "\n",
    "merged_df.rename(columns = {\"Month\":\"Month\", \"AccountIdentifier_x\":\"Total\", \"AccountIdentifier_y\":\"Quit\"}, inplace=True)\n",
    "\n",
    "merged_df\n",
    "\n",
    "\n",
    "\n",
    "\n"
   ]
  },
  {
   "cell_type": "code",
   "execution_count": null,
   "metadata": {},
   "outputs": [
    {
     "name": "stderr",
     "output_type": "stream",
     "text": [
      "C:\\Users\\tulik\\AppData\\Roaming\\Python\\Python312\\site-packages\\seaborn\\_base.py:948: FutureWarning:\n",
      "\n",
      "When grouping with a length-1 list-like, you will need to pass a length-1 tuple to get_group in a future version of pandas. Pass `(name,)` instead of `name` to silence this warning.\n",
      "\n",
      "C:\\Users\\tulik\\AppData\\Roaming\\Python\\Python312\\site-packages\\seaborn\\_base.py:948: FutureWarning:\n",
      "\n",
      "When grouping with a length-1 list-like, you will need to pass a length-1 tuple to get_group in a future version of pandas. Pass `(name,)` instead of `name` to silence this warning.\n",
      "\n"
     ]
    },
    {
     "data": {
      "text/plain": [
       "<Axes: xlabel='Month', ylabel='value'>"
      ]
     },
     "execution_count": 177,
     "metadata": {},
     "output_type": "execute_result"
    },
    {
     "data": {
      "image/png": "[encoded data removed]",
      "text/plain": [
       "<Figure size 1500x500 with 1 Axes>"
      ]
     },
     "metadata": {},
     "output_type": "display_data"
    }
   ],
   "source": [
    "# Create a figure and axis with a specified figure size\n",
    "\n",
    "fig, ax = plt.subplots(figsize =(15,5))\n",
    "\n",
    "# Melt the DataFrame to transform it from wide to long format for easier plotting\n",
    "\n",
    "sns.barplot(merged_df.melt(id_vars=[\"Month\"]), x = \"Month\", y=\"value\", hue = \"variable\")"
   ]
  }
 ],
 "metadata": {
  "kernelspec": {
   "display_name": "Python 3",
   "language": "python",
   "name": "python3"
  },
  "language_info": {
   "codemirror_mode": {
    "name": "ipython",
    "version": 3
   },
   "file_extension": ".py",
   "mimetype": "text/x-python",
   "name": "python",
   "nbconvert_exporter": "python",
   "pygments_lexer": "ipython3",
   "version": "3.12.0"
  }
 },
 "nbformat": 4,
 "nbformat_minor": 2
}
